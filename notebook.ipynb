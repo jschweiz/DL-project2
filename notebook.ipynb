{
 "cells": [
  {
   "cell_type": "code",
   "execution_count": 1,
   "metadata": {},
   "outputs": [],
   "source": [
    "import numpy as np\n",
    "import torch\n",
    "import math\n",
    "\n",
    "EVALUATION_MODE = True\n",
    "if EVALUATION_MODE:\n",
    "    from torch import nn\n",
    "    from torch import optim\n",
    "    from torch.nn import functional as F\n",
    "    import math\n",
    "    import time #used for benchmarking\n",
    "    from tqdm.notebook import tqdm\n",
    "    import matplotlib \n",
    "    from matplotlib import pyplot as plt\n"
   ]
  },
  {
   "cell_type": "markdown",
   "metadata": {},
   "source": [
    "Base class for all modules"
   ]
  },
  {
   "cell_type": "code",
   "execution_count": 2,
   "metadata": {},
   "outputs": [],
   "source": [
    "class Module (object):\n",
    "    def forward(self, *input):\n",
    "        raise NotImplementedError\n",
    "\n",
    "    def __call__(self, x):\n",
    "        return self.forward(x)\n",
    "        \n",
    "    def backward(self, *gradwrtoutput):\n",
    "        raise NotImplementedError\n",
    "\n",
    "    def zero_grad(self):\n",
    "        raise NotImplementedError\n",
    "\n",
    "    def param(self):\n",
    "        return []"
   ]
  },
  {
   "source": [
    "# Activation functions"
   ],
   "cell_type": "markdown",
   "metadata": {}
  },
  {
   "cell_type": "code",
   "execution_count": 3,
   "metadata": {},
   "outputs": [],
   "source": [
    "class Activation(Module):\n",
    "    def forward(self, x):\n",
    "        self.x = x\n",
    "    \n",
    "    def backward(self, *gradwrtoutput):\n",
    "        pass\n",
    "\n",
    "    def requires_grad(self):\n",
    "        return False\n",
    "\n",
    "    def zero_grad(self):\n",
    "        self.x = 0"
   ]
  },
  {
   "cell_type": "code",
   "execution_count": 4,
   "metadata": {},
   "outputs": [],
   "source": [
    "class ReLU(Activation):        \n",
    "    def forward(self, x):\n",
    "        super().forward(x)\n",
    "        return x * (x > 0)\n",
    "    \n",
    "    def backward(self, *output_grad):\n",
    "        return (self.x > 0) * output_grad[-1]\n",
    "\n",
    "class Tanh(Activation):\n",
    "    def forward(self, x):\n",
    "        super().forward(x)\n",
    "        return (2 / (1 + (-2*x).exp())) - 1\n",
    "    \n",
    "    def backward(self, *output_grad):\n",
    "        return (1 - self.forward(self.x)**2) * output_grad[-1]"
   ]
  },
  {
   "source": [
    "# Linear Layers"
   ],
   "cell_type": "markdown",
   "metadata": {}
  },
  {
   "cell_type": "code",
   "execution_count": 5,
   "metadata": {},
   "outputs": [],
   "source": [
    "class Linear(Module):\n",
    "    def __init__(self, in_size, out_size, init_method = None):\n",
    "        # initialization\n",
    "        std = math.sqrt(1 / in_size)\n",
    "        self.weights = torch.empty(in_size, out_size).uniform_(-std, std)\n",
    "        self.bias = torch.empty(1, out_size).uniform_(-std, std)\n",
    "        \n",
    "    def forward(self, x):\n",
    "        self.x = x\n",
    "        return (x @ self.weights) + self.bias\n",
    "\n",
    "    def backward(self, *output_grad):\n",
    "        self.dw = self.x.t() @ output_grad[-1]\n",
    "        self.db = output_grad[-1].sum(axis=0)\n",
    "        return output_grad[-1] @ self.weights.t()\n",
    "    \n",
    "    def step(self, lr, wd):\n",
    "        self.weights.add_(-lr * self.dw - lr * wd * self.weights)\n",
    "        self.bias.add_(-lr * self.db - lr * wd * self.bias)\n",
    "\n",
    "    def requires_grad(self):\n",
    "        return True\n",
    "    \n",
    "    def zero_grad(self):\n",
    "        self.dw =0\n",
    "        self.db = 0"
   ]
  },
  {
   "cell_type": "code",
   "execution_count": 6,
   "metadata": {},
   "outputs": [],
   "source": [
    "class Sequential(Module):\n",
    "    def __init__(self, *layers):\n",
    "        self.layers = layers\n",
    "\n",
    "    def forward(self, x):\n",
    "        for layer in self.layers:\n",
    "            x = layer.forward(x)\n",
    "        return x\n",
    "    \n",
    "    def backward(self, *output_grad):\n",
    "        grad_list = [output_grad[-1]]\n",
    "        for layer in self.layers[::-1]:\n",
    "            grad_list.append(layer.backward(grad_list[-1]))         \n",
    "        return output_grad[0]\n",
    "\n",
    "    def parameters(self):\n",
    "        return self.layers"
   ]
  },
  {
   "source": [
    "# Optimizer"
   ],
   "cell_type": "markdown",
   "metadata": {}
  },
  {
   "cell_type": "code",
   "execution_count": 7,
   "metadata": {},
   "outputs": [],
   "source": [
    "class Optimizer(object):\n",
    "    def __init__(self, layers, lr):\n",
    "        self.lr = lr\n",
    "        self.layers = layers\n",
    "        \n",
    "    def step(self):\n",
    "        raise NotImplementedError\n",
    "\n",
    "class SGD(Optimizer):\n",
    "    def __init__(self, model, lr, weight_decay = 0):\n",
    "        super().__init__(model, lr)\n",
    "        self.weight_decay = weight_decay\n",
    "\n",
    "    def zero_grad(self):\n",
    "        for layer in self.layers:\n",
    "            layer.zero_grad()\n",
    "        \n",
    "    def step (self):\n",
    "        for layer in self.layers:\n",
    "            if layer.requires_grad():\n",
    "                layer.step(self.lr, self.weight_decay)"
   ]
  },
  {
   "source": [
    "# Loss functions"
   ],
   "cell_type": "markdown",
   "metadata": {}
  },
  {
   "cell_type": "code",
   "execution_count": 8,
   "metadata": {},
   "outputs": [],
   "source": [
    "class Loss(object):\n",
    "    def loss(self, predicted, labels):\n",
    "        raise NotImplementedError\n",
    "    def __call__(self, predicted, labels):\n",
    "        return self.loss(predicted, labels)\n",
    "    def dloss(self, predicted, target):\n",
    "        raise NotImplementedError"
   ]
  },
  {
   "cell_type": "code",
   "execution_count": 9,
   "metadata": {},
   "outputs": [],
   "source": [
    "class MSELoss(Loss):\n",
    "    def loss(self, predicted, labels):\n",
    "        return ((predicted - labels)**2).mean()\n",
    "    \n",
    "    def dloss(self, predicted, labels):\n",
    "        return 2 * (predicted - labels)/(len(predicted))"
   ]
  },
  {
   "source": [
    "# Training\n",
    "\n",
    "You must implement a test executable named test.py that imports your framework and\n",
    "* Generates a training and a test set of 1, 000 points sampled uniformly in \\[0, 1\\]^2,  each with a label 0 if outside the disk centered at (0.5, 0.5) of radius 1/√2π, and 1 inside\n",
    "* builds a network with two input units, one output unit, three hidden layers of 25 units,\n",
    "* trains it with MSE, logging the loss,\n",
    "* computes and prints the final train and the test errors"
   ],
   "cell_type": "markdown",
   "metadata": {}
  },
  {
   "source": [
    "def compute_error_ratio(predicted, labels):\n",
    "    e = 0\n",
    "    if predicted.shape != labels.shape:\n",
    "        (predicted.argmax(axis=1) != labels)*1/predicted.shape[0]\n",
    "    else:\n",
    "        e = 1 - (torch.round(predicted) == labels).float().mean()\n",
    "    return e"
   ],
   "cell_type": "code",
   "metadata": {},
   "execution_count": 10,
   "outputs": []
  },
  {
   "cell_type": "code",
   "execution_count": 11,
   "metadata": {},
   "outputs": [],
   "source": [
    "def generate_data(nb):\n",
    "    train_input = torch.rand(nb,2)\n",
    "    train_target = torch.empty(nb, dtype=torch.long)\n",
    "    train_target = train_input.sub(0.5).pow(2).sum(1).sub(1 / (2*math.pi)).sign().add(1).div(2).float().view(-1,1)\n",
    "    return train_input, train_target"
   ]
  },
  {
   "source": [
    "## Train the model"
   ],
   "cell_type": "markdown",
   "metadata": {}
  },
  {
   "cell_type": "code",
   "execution_count": 12,
   "metadata": {},
   "outputs": [],
   "source": [
    "def train_model(model, optimizer, criterion, train_input, train_target, mini_batch_size=100, epochs=100, is_custom=True):\n",
    "    tr_losses, te_losses = torch.empty((epochs,1)), torch.empty((epochs,1)) #Training loss over epochs\n",
    "\n",
    "    for epoch in range(epochs):\n",
    "        for inputs, labels in zip(train_input.split(mini_batch_size), train_target.split(mini_batch_size)):\n",
    "\n",
    "            # reset optimizer, forward and compute loss \n",
    "            optimizer.zero_grad()\n",
    "            predicted = model(inputs)\n",
    "            loss = criterion(predicted, labels)\n",
    "\n",
    "            # calculate gradients (using backward on the model for custom and autograd.backward for torch)\n",
    "            if is_custom:\n",
    "                dloss = criterion.dloss(predicted, labels)\n",
    "                model.backward(dloss)\n",
    "            else:\n",
    "                loss.backward()\n",
    "            optimizer.step()\n",
    "            \n",
    "            err = compute_error_ratio(predicted, labels)\n",
    "        tr_losses[epoch] = loss\n",
    "    return tr_losses, te_losses"
   ]
  },
  {
   "cell_type": "code",
   "execution_count": 13,
   "metadata": {},
   "outputs": [],
   "source": [
    "# MODELS TO COMPARE \n",
    "ROUNDS = 50\n",
    "NB_SAMPLE = 1000\n",
    "LEARNING_RATE = 0.01\n",
    "WEIGHT_DECAY = 0.001\n",
    "\n",
    "NUMBERS=False\n",
    "\n",
    "BASIC_MODEL_DESC = [('lin', 2, 25), ('relu'), ('lin', 25, 10), ('relu'), ('lin', 10, 25), ('relu'), ('lin', 25, 1)]\n",
    "\n",
    "def layer_selection(layerp, custom):\n",
    "    if len(layerp) == 3 and layerp[0] == 'lin':\n",
    "        layer = Linear if custom else nn.Linear\n",
    "        return layer(layerp[1], layerp[2])\n",
    "    if layerp == 'relu':\n",
    "        layer = ReLU if custom else nn.ReLU\n",
    "        return layer()\n",
    "    return None\n",
    "\n",
    "def create_model_optimizer_criterion(model_description, custom=True):\n",
    "    SEQU, OPTI, CRIT = None, None, None\n",
    "    if custom:\n",
    "        SEQU, OPTI, CRIT = Sequential, SGD, MSELoss\n",
    "    else:\n",
    "        SEQU, OPTI, CRIT = nn.Sequential, optim.SGD, nn.MSELoss\n",
    "    layers = [ layer_selection(layerp, custom) for layerp in model_description]\n",
    "    model = SEQU(*layers)\n",
    "    return (model, OPTI(model.parameters(), lr=LEARNING_RATE, weight_decay=WEIGHT_DECAY), CRIT())"
   ]
  },
  {
   "source": [
    "## Evaluate model\n",
    "We repeat the training for n rounds in order to get mean/std trainings. "
   ],
   "cell_type": "markdown",
   "metadata": {}
  },
  {
   "cell_type": "code",
   "execution_count": 14,
   "metadata": {},
   "outputs": [],
   "source": [
    "def evaluate_model(datasets, model_description, rounds=10, epochs = 10, is_custom = True, lr = None, wd = None):\n",
    "\n",
    "    train_input, train_target, test_input, test_target = datasets\n",
    "\n",
    "    tr_error, te_error = torch.empty((rounds,1)), torch.empty((rounds,1))\n",
    "    tr_losses, te_losses = torch.empty((rounds, epochs)), torch.empty((rounds, epochs))\n",
    "    \n",
    "    for r in tqdm(range(rounds)):\n",
    "        \n",
    "        # Generate model and training/test data\n",
    "        model, optimizer, criterion = create_model_optimizer_criterion(model_description, custom=is_custom)\n",
    "        torch.set_grad_enabled(not is_custom)\n",
    "        \n",
    "        # Train model\n",
    "        tr_loss, te_loss = train_model(model, optimizer, criterion, train_input, train_target, epochs=epochs, is_custom=is_custom)\n",
    "        predicted_test = model(test_input)\n",
    "        predicted_train = model(train_input)\n",
    "        \n",
    "        # Compute error rate\n",
    "        err_test = compute_error_ratio(predicted_test, test_target)\n",
    "        err_train = compute_error_ratio(predicted_train, train_target)\n",
    "        \n",
    "        # Save all data\n",
    "        tr_losses[r], te_losses[r] = tr_loss.t(), te_loss.t()\n",
    "        tr_error[r], te_error[r] = err_train, err_test\n",
    "        \n",
    "    return torch.mean(tr_error), torch.std(tr_error), torch.mean(te_error), torch.std(te_error), torch.mean(tr_losses, axis = 0) "
   ]
  },
  {
   "source": [
    "We actually get the error-rate mean and std & plot the training loss evolution during training"
   ],
   "cell_type": "markdown",
   "metadata": {}
  },
  {
   "cell_type": "code",
   "execution_count": 15,
   "metadata": {},
   "outputs": [],
   "source": [
    "def store():\n",
    "    it = 0\n",
    "    while os.path.isfile('data/dataframe/db{}.pkl'.format(it)):\n",
    "        it+=1\n",
    "    outfile = open(f'data/dataframe/db{it}.pkl', 'wb')\n",
    "    pickle.dump(DATABASE, outfile)\n",
    "    outfile.close()\n",
    "\n",
    "def load(new=False):\n",
    "    it = 0\n",
    "    while os.path.isfile('data/dataframe/db{}.pkl'.format(it)):\n",
    "        it+=1\n",
    "    return pd.read_pickle(f'data/dataframe/db{it-1}.pkl') if (it>0 and new==False) else pd.DataFrame([], columns = cols)\n",
    "\n",
    "def plot_loss(*idx, custom=None):\n",
    "    for idx_i in idx:\n",
    "        df = DATABASE[ DATABASE['id'].between(idx_i-0.000001,idx_i+0.000001)]\n",
    "        li = [True, False] if custom == None else [custom]\n",
    "        for tr in li:\n",
    "            s =  df[df['custom_framework'] == tr]['loss'].values[0]\n",
    "            plt.plot(s, label = \"{} id:{}\".format(\"Custom Framework\" if True else 'Torch framework', idx_i))\n",
    "    plt.legend()\n",
    "    plt.xlabel('Epochs')\n",
    "    plt.ylabel('Training loss')\n",
    "\n",
    "def print_report(*idx):\n",
    "    for idx_i in idx:\n",
    "        df = DATABASE[ DATABASE['id'].between(idx_i-0.000001,idx_i+0.000001)]\n",
    "        print('Run with parameters: ')\n",
    "        print('\\t - DATASET_SIZE: {}, \\t results averaged on {} ROUNDS'.format(df['samples'].unique().item(), df['rounds'].unique().item()))\n",
    "        print('\\t - model parameters: {}'.format(str(df['model_description'].to_numpy()[0])))\n",
    "        print('\\t - optimizer parameters: LEARNING_RATE: {} \\t WEIGHT_DECAY: {}'.format(df['learning_rate'].unique().item(), df['weight_decay'].unique().item()))\n",
    "        print(\"Results: \")\n",
    "        s =  df[df['custom_framework'] == True]\n",
    "        print(\"\\t - CUSTOM FRAMEWORK: \\t training:  {:.3f} +/-  {:.3f} \\t test: {:.3f} +/-  {:.3f} \\t computed in {} s\".format(s['tr_mean'].unique().item(), s['tr_std'].unique().item(), s['te_mean'].unique().item(), s['te_std'].unique().item(), s['duration'].unique().item()))\n",
    "        s =  df[df['custom_framework'] == False]\n",
    "        print(\"\\t - TORCH FRAMEWORK: \\t training:  {:.3f} +/-  {:.3f} \\t test: {:.3f} +/-  {:.3f} \\t computed in {} s\".format(s['tr_mean'].unique().item(), s['tr_std'].unique().item(), s['te_mean'].unique().item(), s['te_std'].unique().item(), s['duration'].unique().item()))\n",
    "        print()\n"
   ]
  },
  {
   "cell_type": "code",
   "execution_count": 20,
   "metadata": {
    "tags": []
   },
   "outputs": [
    {
     "output_type": "stream",
     "name": "stdout",
     "text": [
      "Training Custom framework\n"
     ]
    },
    {
     "output_type": "display_data",
     "data": {
      "text/plain": "HBox(children=(HTML(value=''), FloatProgress(value=0.0, max=25.0), HTML(value='')))",
      "application/vnd.jupyter.widget-view+json": {
       "version_major": 2,
       "version_minor": 0,
       "model_id": "98f5e2e5c3904c9cad5edcf7a78ff3c1"
      }
     },
     "metadata": {}
    },
    {
     "output_type": "stream",
     "name": "stdout",
     "text": [
      "\n",
      "Training Pytorch framework\n"
     ]
    },
    {
     "output_type": "display_data",
     "data": {
      "text/plain": "HBox(children=(HTML(value=''), FloatProgress(value=0.0, max=25.0), HTML(value='')))",
      "application/vnd.jupyter.widget-view+json": {
       "version_major": 2,
       "version_minor": 0,
       "model_id": "915b057e30ba4330ac66daaa25dfba56"
      }
     },
     "metadata": {}
    },
    {
     "output_type": "stream",
     "name": "stdout",
     "text": [
      "\n"
     ]
    },
    {
     "output_type": "display_data",
     "data": {
      "text/plain": "<Figure size 432x288 with 1 Axes>",
      "image/svg+xml": "<?xml version=\"1.0\" encoding=\"utf-8\" standalone=\"no\"?>\r\n<!DOCTYPE svg PUBLIC \"-//W3C//DTD SVG 1.1//EN\"\r\n  \"http://www.w3.org/Graphics/SVG/1.1/DTD/svg11.dtd\">\r\n<!-- Created with matplotlib (https://matplotlib.org/) -->\r\n<svg height=\"248.518125pt\" version=\"1.1\" viewBox=\"0 0 378.465625 248.518125\" width=\"378.465625pt\" xmlns=\"http://www.w3.org/2000/svg\" xmlns:xlink=\"http://www.w3.org/1999/xlink\">\r\n <metadata>\r\n  <rdf:RDF xmlns:cc=\"http://creativecommons.org/ns#\" xmlns:dc=\"http://purl.org/dc/elements/1.1/\" xmlns:rdf=\"http://www.w3.org/1999/02/22-rdf-syntax-ns#\">\r\n   <cc:Work>\r\n    <dc:type rdf:resource=\"http://purl.org/dc/dcmitype/StillImage\"/>\r\n    <dc:date>2021-05-20T15:38:35.505086</dc:date>\r\n    <dc:format>image/svg+xml</dc:format>\r\n    <dc:creator>\r\n     <cc:Agent>\r\n      <dc:title>Matplotlib v3.3.2, https://matplotlib.org/</dc:title>\r\n     </cc:Agent>\r\n    </dc:creator>\r\n   </cc:Work>\r\n  </rdf:RDF>\r\n </metadata>\r\n <defs>\r\n  <style type=\"text/css\">*{stroke-linecap:butt;stroke-linejoin:round;}</style>\r\n </defs>\r\n <g id=\"figure_1\">\r\n  <g id=\"patch_1\">\r\n   <path d=\"M 0 248.518125 \r\nL 378.465625 248.518125 \r\nL 378.465625 0 \r\nL 0 0 \r\nz\r\n\" style=\"fill:none;\"/>\r\n  </g>\r\n  <g id=\"axes_1\">\r\n   <g id=\"patch_2\">\r\n    <path d=\"M 36.465625 224.64 \r\nL 371.265625 224.64 \r\nL 371.265625 7.2 \r\nL 36.465625 7.2 \r\nz\r\n\" style=\"fill:#ffffff;\"/>\r\n   </g>\r\n   <g id=\"matplotlib.axis_1\">\r\n    <g id=\"xtick_1\">\r\n     <g id=\"line2d_1\">\r\n      <defs>\r\n       <path d=\"M 0 0 \r\nL 0 3.5 \r\n\" id=\"m9575c24646\" style=\"stroke:#000000;stroke-width:0.8;\"/>\r\n      </defs>\r\n      <g>\r\n       <use style=\"stroke:#000000;stroke-width:0.8;\" x=\"51.683807\" xlink:href=\"#m9575c24646\" y=\"224.64\"/>\r\n      </g>\r\n     </g>\r\n     <g id=\"text_1\">\r\n      <!-- 0 -->\r\n      <g transform=\"translate(48.502557 239.238437)scale(0.1 -0.1)\">\r\n       <defs>\r\n        <path d=\"M 31.78125 66.40625 \r\nQ 24.171875 66.40625 20.328125 58.90625 \r\nQ 16.5 51.421875 16.5 36.375 \r\nQ 16.5 21.390625 20.328125 13.890625 \r\nQ 24.171875 6.390625 31.78125 6.390625 \r\nQ 39.453125 6.390625 43.28125 13.890625 \r\nQ 47.125 21.390625 47.125 36.375 \r\nQ 47.125 51.421875 43.28125 58.90625 \r\nQ 39.453125 66.40625 31.78125 66.40625 \r\nz\r\nM 31.78125 74.21875 \r\nQ 44.046875 74.21875 50.515625 64.515625 \r\nQ 56.984375 54.828125 56.984375 36.375 \r\nQ 56.984375 17.96875 50.515625 8.265625 \r\nQ 44.046875 -1.421875 31.78125 -1.421875 \r\nQ 19.53125 -1.421875 13.0625 8.265625 \r\nQ 6.59375 17.96875 6.59375 36.375 \r\nQ 6.59375 54.828125 13.0625 64.515625 \r\nQ 19.53125 74.21875 31.78125 74.21875 \r\nz\r\n\" id=\"DejaVuSans-48\"/>\r\n       </defs>\r\n       <use xlink:href=\"#DejaVuSans-48\"/>\r\n      </g>\r\n     </g>\r\n    </g>\r\n    <g id=\"xtick_2\">\r\n     <g id=\"line2d_2\">\r\n      <g>\r\n       <use style=\"stroke:#000000;stroke-width:0.8;\" x=\"112.617468\" xlink:href=\"#m9575c24646\" y=\"224.64\"/>\r\n      </g>\r\n     </g>\r\n     <g id=\"text_2\">\r\n      <!-- 200 -->\r\n      <g transform=\"translate(103.073718 239.238437)scale(0.1 -0.1)\">\r\n       <defs>\r\n        <path d=\"M 19.1875 8.296875 \r\nL 53.609375 8.296875 \r\nL 53.609375 0 \r\nL 7.328125 0 \r\nL 7.328125 8.296875 \r\nQ 12.9375 14.109375 22.625 23.890625 \r\nQ 32.328125 33.6875 34.8125 36.53125 \r\nQ 39.546875 41.84375 41.421875 45.53125 \r\nQ 43.3125 49.21875 43.3125 52.78125 \r\nQ 43.3125 58.59375 39.234375 62.25 \r\nQ 35.15625 65.921875 28.609375 65.921875 \r\nQ 23.96875 65.921875 18.8125 64.3125 \r\nQ 13.671875 62.703125 7.8125 59.421875 \r\nL 7.8125 69.390625 \r\nQ 13.765625 71.78125 18.9375 73 \r\nQ 24.125 74.21875 28.421875 74.21875 \r\nQ 39.75 74.21875 46.484375 68.546875 \r\nQ 53.21875 62.890625 53.21875 53.421875 \r\nQ 53.21875 48.921875 51.53125 44.890625 \r\nQ 49.859375 40.875 45.40625 35.40625 \r\nQ 44.1875 33.984375 37.640625 27.21875 \r\nQ 31.109375 20.453125 19.1875 8.296875 \r\nz\r\n\" id=\"DejaVuSans-50\"/>\r\n       </defs>\r\n       <use xlink:href=\"#DejaVuSans-50\"/>\r\n       <use x=\"63.623047\" xlink:href=\"#DejaVuSans-48\"/>\r\n       <use x=\"127.246094\" xlink:href=\"#DejaVuSans-48\"/>\r\n      </g>\r\n     </g>\r\n    </g>\r\n    <g id=\"xtick_3\">\r\n     <g id=\"line2d_3\">\r\n      <g>\r\n       <use style=\"stroke:#000000;stroke-width:0.8;\" x=\"173.551129\" xlink:href=\"#m9575c24646\" y=\"224.64\"/>\r\n      </g>\r\n     </g>\r\n     <g id=\"text_3\">\r\n      <!-- 400 -->\r\n      <g transform=\"translate(164.007379 239.238437)scale(0.1 -0.1)\">\r\n       <defs>\r\n        <path d=\"M 37.796875 64.3125 \r\nL 12.890625 25.390625 \r\nL 37.796875 25.390625 \r\nz\r\nM 35.203125 72.90625 \r\nL 47.609375 72.90625 \r\nL 47.609375 25.390625 \r\nL 58.015625 25.390625 \r\nL 58.015625 17.1875 \r\nL 47.609375 17.1875 \r\nL 47.609375 0 \r\nL 37.796875 0 \r\nL 37.796875 17.1875 \r\nL 4.890625 17.1875 \r\nL 4.890625 26.703125 \r\nz\r\n\" id=\"DejaVuSans-52\"/>\r\n       </defs>\r\n       <use xlink:href=\"#DejaVuSans-52\"/>\r\n       <use x=\"63.623047\" xlink:href=\"#DejaVuSans-48\"/>\r\n       <use x=\"127.246094\" xlink:href=\"#DejaVuSans-48\"/>\r\n      </g>\r\n     </g>\r\n    </g>\r\n    <g id=\"xtick_4\">\r\n     <g id=\"line2d_4\">\r\n      <g>\r\n       <use style=\"stroke:#000000;stroke-width:0.8;\" x=\"234.48479\" xlink:href=\"#m9575c24646\" y=\"224.64\"/>\r\n      </g>\r\n     </g>\r\n     <g id=\"text_4\">\r\n      <!-- 600 -->\r\n      <g transform=\"translate(224.94104 239.238437)scale(0.1 -0.1)\">\r\n       <defs>\r\n        <path d=\"M 33.015625 40.375 \r\nQ 26.375 40.375 22.484375 35.828125 \r\nQ 18.609375 31.296875 18.609375 23.390625 \r\nQ 18.609375 15.53125 22.484375 10.953125 \r\nQ 26.375 6.390625 33.015625 6.390625 \r\nQ 39.65625 6.390625 43.53125 10.953125 \r\nQ 47.40625 15.53125 47.40625 23.390625 \r\nQ 47.40625 31.296875 43.53125 35.828125 \r\nQ 39.65625 40.375 33.015625 40.375 \r\nz\r\nM 52.59375 71.296875 \r\nL 52.59375 62.3125 \r\nQ 48.875 64.0625 45.09375 64.984375 \r\nQ 41.3125 65.921875 37.59375 65.921875 \r\nQ 27.828125 65.921875 22.671875 59.328125 \r\nQ 17.53125 52.734375 16.796875 39.40625 \r\nQ 19.671875 43.65625 24.015625 45.921875 \r\nQ 28.375 48.1875 33.59375 48.1875 \r\nQ 44.578125 48.1875 50.953125 41.515625 \r\nQ 57.328125 34.859375 57.328125 23.390625 \r\nQ 57.328125 12.15625 50.6875 5.359375 \r\nQ 44.046875 -1.421875 33.015625 -1.421875 \r\nQ 20.359375 -1.421875 13.671875 8.265625 \r\nQ 6.984375 17.96875 6.984375 36.375 \r\nQ 6.984375 53.65625 15.1875 63.9375 \r\nQ 23.390625 74.21875 37.203125 74.21875 \r\nQ 40.921875 74.21875 44.703125 73.484375 \r\nQ 48.484375 72.75 52.59375 71.296875 \r\nz\r\n\" id=\"DejaVuSans-54\"/>\r\n       </defs>\r\n       <use xlink:href=\"#DejaVuSans-54\"/>\r\n       <use x=\"63.623047\" xlink:href=\"#DejaVuSans-48\"/>\r\n       <use x=\"127.246094\" xlink:href=\"#DejaVuSans-48\"/>\r\n      </g>\r\n     </g>\r\n    </g>\r\n    <g id=\"xtick_5\">\r\n     <g id=\"line2d_5\">\r\n      <g>\r\n       <use style=\"stroke:#000000;stroke-width:0.8;\" x=\"295.418451\" xlink:href=\"#m9575c24646\" y=\"224.64\"/>\r\n      </g>\r\n     </g>\r\n     <g id=\"text_5\">\r\n      <!-- 800 -->\r\n      <g transform=\"translate(285.874701 239.238437)scale(0.1 -0.1)\">\r\n       <defs>\r\n        <path d=\"M 31.78125 34.625 \r\nQ 24.75 34.625 20.71875 30.859375 \r\nQ 16.703125 27.09375 16.703125 20.515625 \r\nQ 16.703125 13.921875 20.71875 10.15625 \r\nQ 24.75 6.390625 31.78125 6.390625 \r\nQ 38.8125 6.390625 42.859375 10.171875 \r\nQ 46.921875 13.96875 46.921875 20.515625 \r\nQ 46.921875 27.09375 42.890625 30.859375 \r\nQ 38.875 34.625 31.78125 34.625 \r\nz\r\nM 21.921875 38.8125 \r\nQ 15.578125 40.375 12.03125 44.71875 \r\nQ 8.5 49.078125 8.5 55.328125 \r\nQ 8.5 64.0625 14.71875 69.140625 \r\nQ 20.953125 74.21875 31.78125 74.21875 \r\nQ 42.671875 74.21875 48.875 69.140625 \r\nQ 55.078125 64.0625 55.078125 55.328125 \r\nQ 55.078125 49.078125 51.53125 44.71875 \r\nQ 48 40.375 41.703125 38.8125 \r\nQ 48.828125 37.15625 52.796875 32.3125 \r\nQ 56.78125 27.484375 56.78125 20.515625 \r\nQ 56.78125 9.90625 50.3125 4.234375 \r\nQ 43.84375 -1.421875 31.78125 -1.421875 \r\nQ 19.734375 -1.421875 13.25 4.234375 \r\nQ 6.78125 9.90625 6.78125 20.515625 \r\nQ 6.78125 27.484375 10.78125 32.3125 \r\nQ 14.796875 37.15625 21.921875 38.8125 \r\nz\r\nM 18.3125 54.390625 \r\nQ 18.3125 48.734375 21.84375 45.5625 \r\nQ 25.390625 42.390625 31.78125 42.390625 \r\nQ 38.140625 42.390625 41.71875 45.5625 \r\nQ 45.3125 48.734375 45.3125 54.390625 \r\nQ 45.3125 60.0625 41.71875 63.234375 \r\nQ 38.140625 66.40625 31.78125 66.40625 \r\nQ 25.390625 66.40625 21.84375 63.234375 \r\nQ 18.3125 60.0625 18.3125 54.390625 \r\nz\r\n\" id=\"DejaVuSans-56\"/>\r\n       </defs>\r\n       <use xlink:href=\"#DejaVuSans-56\"/>\r\n       <use x=\"63.623047\" xlink:href=\"#DejaVuSans-48\"/>\r\n       <use x=\"127.246094\" xlink:href=\"#DejaVuSans-48\"/>\r\n      </g>\r\n     </g>\r\n    </g>\r\n    <g id=\"xtick_6\">\r\n     <g id=\"line2d_6\">\r\n      <g>\r\n       <use style=\"stroke:#000000;stroke-width:0.8;\" x=\"356.352111\" xlink:href=\"#m9575c24646\" y=\"224.64\"/>\r\n      </g>\r\n     </g>\r\n     <g id=\"text_6\">\r\n      <!-- 1000 -->\r\n      <g transform=\"translate(343.627111 239.238437)scale(0.1 -0.1)\">\r\n       <defs>\r\n        <path d=\"M 12.40625 8.296875 \r\nL 28.515625 8.296875 \r\nL 28.515625 63.921875 \r\nL 10.984375 60.40625 \r\nL 10.984375 69.390625 \r\nL 28.421875 72.90625 \r\nL 38.28125 72.90625 \r\nL 38.28125 8.296875 \r\nL 54.390625 8.296875 \r\nL 54.390625 0 \r\nL 12.40625 0 \r\nz\r\n\" id=\"DejaVuSans-49\"/>\r\n       </defs>\r\n       <use xlink:href=\"#DejaVuSans-49\"/>\r\n       <use x=\"63.623047\" xlink:href=\"#DejaVuSans-48\"/>\r\n       <use x=\"127.246094\" xlink:href=\"#DejaVuSans-48\"/>\r\n       <use x=\"190.869141\" xlink:href=\"#DejaVuSans-48\"/>\r\n      </g>\r\n     </g>\r\n    </g>\r\n   </g>\r\n   <g id=\"matplotlib.axis_2\">\r\n    <g id=\"ytick_1\">\r\n     <g id=\"line2d_7\">\r\n      <defs>\r\n       <path d=\"M 0 0 \r\nL -3.5 0 \r\n\" id=\"mf0392efcc9\" style=\"stroke:#000000;stroke-width:0.8;\"/>\r\n      </defs>\r\n      <g>\r\n       <use style=\"stroke:#000000;stroke-width:0.8;\" x=\"36.465625\" xlink:href=\"#mf0392efcc9\" y=\"210.871454\"/>\r\n      </g>\r\n     </g>\r\n     <g id=\"text_7\">\r\n      <!-- 0.25 -->\r\n      <g transform=\"translate(7.2 214.670673)scale(0.1 -0.1)\">\r\n       <defs>\r\n        <path d=\"M 10.6875 12.40625 \r\nL 21 12.40625 \r\nL 21 0 \r\nL 10.6875 0 \r\nz\r\n\" id=\"DejaVuSans-46\"/>\r\n        <path d=\"M 10.796875 72.90625 \r\nL 49.515625 72.90625 \r\nL 49.515625 64.59375 \r\nL 19.828125 64.59375 \r\nL 19.828125 46.734375 \r\nQ 21.96875 47.46875 24.109375 47.828125 \r\nQ 26.265625 48.1875 28.421875 48.1875 \r\nQ 40.625 48.1875 47.75 41.5 \r\nQ 54.890625 34.8125 54.890625 23.390625 \r\nQ 54.890625 11.625 47.5625 5.09375 \r\nQ 40.234375 -1.421875 26.90625 -1.421875 \r\nQ 22.3125 -1.421875 17.546875 -0.640625 \r\nQ 12.796875 0.140625 7.71875 1.703125 \r\nL 7.71875 11.625 \r\nQ 12.109375 9.234375 16.796875 8.0625 \r\nQ 21.484375 6.890625 26.703125 6.890625 \r\nQ 35.15625 6.890625 40.078125 11.328125 \r\nQ 45.015625 15.765625 45.015625 23.390625 \r\nQ 45.015625 31 40.078125 35.4375 \r\nQ 35.15625 39.890625 26.703125 39.890625 \r\nQ 22.75 39.890625 18.8125 39.015625 \r\nQ 14.890625 38.140625 10.796875 36.28125 \r\nz\r\n\" id=\"DejaVuSans-53\"/>\r\n       </defs>\r\n       <use xlink:href=\"#DejaVuSans-48\"/>\r\n       <use x=\"63.623047\" xlink:href=\"#DejaVuSans-46\"/>\r\n       <use x=\"95.410156\" xlink:href=\"#DejaVuSans-50\"/>\r\n       <use x=\"159.033203\" xlink:href=\"#DejaVuSans-53\"/>\r\n      </g>\r\n     </g>\r\n    </g>\r\n    <g id=\"ytick_2\">\r\n     <g id=\"line2d_8\">\r\n      <g>\r\n       <use style=\"stroke:#000000;stroke-width:0.8;\" x=\"36.465625\" xlink:href=\"#mf0392efcc9\" y=\"176.704112\"/>\r\n      </g>\r\n     </g>\r\n     <g id=\"text_8\">\r\n      <!-- 0.30 -->\r\n      <g transform=\"translate(7.2 180.503331)scale(0.1 -0.1)\">\r\n       <defs>\r\n        <path d=\"M 40.578125 39.3125 \r\nQ 47.65625 37.796875 51.625 33 \r\nQ 55.609375 28.21875 55.609375 21.1875 \r\nQ 55.609375 10.40625 48.1875 4.484375 \r\nQ 40.765625 -1.421875 27.09375 -1.421875 \r\nQ 22.515625 -1.421875 17.65625 -0.515625 \r\nQ 12.796875 0.390625 7.625 2.203125 \r\nL 7.625 11.71875 \r\nQ 11.71875 9.328125 16.59375 8.109375 \r\nQ 21.484375 6.890625 26.8125 6.890625 \r\nQ 36.078125 6.890625 40.9375 10.546875 \r\nQ 45.796875 14.203125 45.796875 21.1875 \r\nQ 45.796875 27.640625 41.28125 31.265625 \r\nQ 36.765625 34.90625 28.71875 34.90625 \r\nL 20.21875 34.90625 \r\nL 20.21875 43.015625 \r\nL 29.109375 43.015625 \r\nQ 36.375 43.015625 40.234375 45.921875 \r\nQ 44.09375 48.828125 44.09375 54.296875 \r\nQ 44.09375 59.90625 40.109375 62.90625 \r\nQ 36.140625 65.921875 28.71875 65.921875 \r\nQ 24.65625 65.921875 20.015625 65.03125 \r\nQ 15.375 64.15625 9.8125 62.3125 \r\nL 9.8125 71.09375 \r\nQ 15.4375 72.65625 20.34375 73.4375 \r\nQ 25.25 74.21875 29.59375 74.21875 \r\nQ 40.828125 74.21875 47.359375 69.109375 \r\nQ 53.90625 64.015625 53.90625 55.328125 \r\nQ 53.90625 49.265625 50.4375 45.09375 \r\nQ 46.96875 40.921875 40.578125 39.3125 \r\nz\r\n\" id=\"DejaVuSans-51\"/>\r\n       </defs>\r\n       <use xlink:href=\"#DejaVuSans-48\"/>\r\n       <use x=\"63.623047\" xlink:href=\"#DejaVuSans-46\"/>\r\n       <use x=\"95.410156\" xlink:href=\"#DejaVuSans-51\"/>\r\n       <use x=\"159.033203\" xlink:href=\"#DejaVuSans-48\"/>\r\n      </g>\r\n     </g>\r\n    </g>\r\n    <g id=\"ytick_3\">\r\n     <g id=\"line2d_9\">\r\n      <g>\r\n       <use style=\"stroke:#000000;stroke-width:0.8;\" x=\"36.465625\" xlink:href=\"#mf0392efcc9\" y=\"142.53677\"/>\r\n      </g>\r\n     </g>\r\n     <g id=\"text_9\">\r\n      <!-- 0.35 -->\r\n      <g transform=\"translate(7.2 146.335989)scale(0.1 -0.1)\">\r\n       <use xlink:href=\"#DejaVuSans-48\"/>\r\n       <use x=\"63.623047\" xlink:href=\"#DejaVuSans-46\"/>\r\n       <use x=\"95.410156\" xlink:href=\"#DejaVuSans-51\"/>\r\n       <use x=\"159.033203\" xlink:href=\"#DejaVuSans-53\"/>\r\n      </g>\r\n     </g>\r\n    </g>\r\n    <g id=\"ytick_4\">\r\n     <g id=\"line2d_10\">\r\n      <g>\r\n       <use style=\"stroke:#000000;stroke-width:0.8;\" x=\"36.465625\" xlink:href=\"#mf0392efcc9\" y=\"108.369428\"/>\r\n      </g>\r\n     </g>\r\n     <g id=\"text_10\">\r\n      <!-- 0.40 -->\r\n      <g transform=\"translate(7.2 112.168647)scale(0.1 -0.1)\">\r\n       <use xlink:href=\"#DejaVuSans-48\"/>\r\n       <use x=\"63.623047\" xlink:href=\"#DejaVuSans-46\"/>\r\n       <use x=\"95.410156\" xlink:href=\"#DejaVuSans-52\"/>\r\n       <use x=\"159.033203\" xlink:href=\"#DejaVuSans-48\"/>\r\n      </g>\r\n     </g>\r\n    </g>\r\n    <g id=\"ytick_5\">\r\n     <g id=\"line2d_11\">\r\n      <g>\r\n       <use style=\"stroke:#000000;stroke-width:0.8;\" x=\"36.465625\" xlink:href=\"#mf0392efcc9\" y=\"74.202086\"/>\r\n      </g>\r\n     </g>\r\n     <g id=\"text_11\">\r\n      <!-- 0.45 -->\r\n      <g transform=\"translate(7.2 78.001305)scale(0.1 -0.1)\">\r\n       <use xlink:href=\"#DejaVuSans-48\"/>\r\n       <use x=\"63.623047\" xlink:href=\"#DejaVuSans-46\"/>\r\n       <use x=\"95.410156\" xlink:href=\"#DejaVuSans-52\"/>\r\n       <use x=\"159.033203\" xlink:href=\"#DejaVuSans-53\"/>\r\n      </g>\r\n     </g>\r\n    </g>\r\n    <g id=\"ytick_6\">\r\n     <g id=\"line2d_12\">\r\n      <g>\r\n       <use style=\"stroke:#000000;stroke-width:0.8;\" x=\"36.465625\" xlink:href=\"#mf0392efcc9\" y=\"40.034744\"/>\r\n      </g>\r\n     </g>\r\n     <g id=\"text_12\">\r\n      <!-- 0.50 -->\r\n      <g transform=\"translate(7.2 43.833963)scale(0.1 -0.1)\">\r\n       <use xlink:href=\"#DejaVuSans-48\"/>\r\n       <use x=\"63.623047\" xlink:href=\"#DejaVuSans-46\"/>\r\n       <use x=\"95.410156\" xlink:href=\"#DejaVuSans-53\"/>\r\n       <use x=\"159.033203\" xlink:href=\"#DejaVuSans-48\"/>\r\n      </g>\r\n     </g>\r\n    </g>\r\n   </g>\r\n   <g id=\"line2d_13\">\r\n    <path clip-path=\"url(#p3f0652efee)\" d=\"M 51.683807 17.083636 \r\nL 52.90248 55.032562 \r\nL 54.121153 85.177252 \r\nL 55.339826 109.203751 \r\nL 56.5585 128.481749 \r\nL 57.777173 144.005481 \r\nL 58.995846 156.527751 \r\nL 60.214519 166.639826 \r\nL 61.433193 174.824813 \r\nL 62.651866 181.460751 \r\nL 63.870539 186.824 \r\nL 65.089212 191.173381 \r\nL 66.307885 194.7132 \r\nL 67.526559 197.597052 \r\nL 68.745232 199.94943 \r\nL 69.963905 201.872629 \r\nL 71.182578 203.447459 \r\nL 72.70592 205.025344 \r\nL 74.229261 206.263474 \r\nL 75.752603 207.237812 \r\nL 77.580613 208.141625 \r\nL 79.713291 208.925527 \r\nL 82.150637 209.568053 \r\nL 85.19732 210.118915 \r\nL 88.85334 210.545304 \r\nL 94.337369 210.930656 \r\nL 102.258745 211.233458 \r\nL 116.273487 211.494134 \r\nL 157.09904 211.959624 \r\nL 356.047443 214.054035 \r\nL 356.047443 214.054035 \r\n\" style=\"fill:none;stroke:#1f77b4;stroke-linecap:square;stroke-width:1.5;\"/>\r\n   </g>\r\n   <g id=\"line2d_14\">\r\n    <path clip-path=\"url(#p3f0652efee)\" d=\"M 51.683807 23.439531 \r\nL 52.90248 62.594227 \r\nL 54.121153 93.192371 \r\nL 55.339826 117.304771 \r\nL 56.5585 136.388382 \r\nL 57.777173 151.523156 \r\nL 58.995846 163.532506 \r\nL 60.214519 173.056716 \r\nL 61.433193 180.611904 \r\nL 62.651866 186.60827 \r\nL 63.870539 191.37013 \r\nL 65.089212 195.14914 \r\nL 66.307885 198.165794 \r\nL 67.526559 200.577985 \r\nL 68.745232 202.508129 \r\nL 69.963905 204.059091 \r\nL 71.182578 205.310031 \r\nL 72.70592 206.545147 \r\nL 74.229261 207.498753 \r\nL 76.057271 208.36487 \r\nL 78.189949 209.100221 \r\nL 80.627296 209.689695 \r\nL 83.673979 210.186691 \r\nL 87.634667 210.598131 \r\nL 93.118696 210.931176 \r\nL 102.868082 211.265411 \r\nL 122.97619 211.680304 \r\nL 178.121153 212.542755 \r\nL 247.280858 213.43054 \r\nL 356.047443 214.756364 \r\nL 356.047443 214.756364 \r\n\" style=\"fill:none;stroke:#ff7f0e;stroke-linecap:square;stroke-width:1.5;\"/>\r\n   </g>\r\n   <g id=\"patch_3\">\r\n    <path d=\"M 36.465625 224.64 \r\nL 36.465625 7.2 \r\n\" style=\"fill:none;stroke:#000000;stroke-linecap:square;stroke-linejoin:miter;stroke-width:0.8;\"/>\r\n   </g>\r\n   <g id=\"patch_4\">\r\n    <path d=\"M 371.265625 224.64 \r\nL 371.265625 7.2 \r\n\" style=\"fill:none;stroke:#000000;stroke-linecap:square;stroke-linejoin:miter;stroke-width:0.8;\"/>\r\n   </g>\r\n   <g id=\"patch_5\">\r\n    <path d=\"M 36.465625 224.64 \r\nL 371.265625 224.64 \r\n\" style=\"fill:none;stroke:#000000;stroke-linecap:square;stroke-linejoin:miter;stroke-width:0.8;\"/>\r\n   </g>\r\n   <g id=\"patch_6\">\r\n    <path d=\"M 36.465625 7.2 \r\nL 371.265625 7.2 \r\n\" style=\"fill:none;stroke:#000000;stroke-linecap:square;stroke-linejoin:miter;stroke-width:0.8;\"/>\r\n   </g>\r\n  </g>\r\n </g>\r\n <defs>\r\n  <clipPath id=\"p3f0652efee\">\r\n   <rect height=\"217.44\" width=\"334.8\" x=\"36.465625\" y=\"7.2\"/>\r\n  </clipPath>\r\n </defs>\r\n</svg>\r\n",
      "image/png": "[encoded data removed]"
     },
     "metadata": {
      "needs_background": "light"
     }
    }
   ],
   "source": [
    "import matplotlib \n",
    "from matplotlib import pyplot as plt\n",
    "import time\n",
    "from tqdm.notebook import tqdm\n",
    "import os.path\n",
    "import pickle\n",
    "import seaborn as sns\n",
    "from random import random\n",
    "import pandas as pd\n",
    "import itertools\n",
    "\n",
    "cols = ['custom_framework','rounds', 'samples', 'learning_rate', 'weight_decay', 'loss', 'tr_mean', 'tr_std', 'te_mean', 'te_std', 'duration', 'id', 'model_description']\n",
    "\n",
    "ROUNDS = 25\n",
    "NB_SAMPLE = 100\n",
    "LEARNING_RATE = 0.01\n",
    "WEIGHT_DECAY = 0\n",
    "EPOCHS = 1000\n",
    "UNIQ_ID = random()\n",
    "\n",
    "dict_models = {\"Custom framework\" : True, \"Pytorch framework\" : False}\n",
    "\n",
    "lr_list = [LEARNING_RATE]# [0.0001, 0.001, 0.01, 0.1, 0.5]\n",
    "wd_list = [WEIGHT_DECAY] #[0, 0.0001, 0.001, 0.01, 0.1]\n",
    "hl_list = [5]#[2, 10, 25]\n",
    "\n",
    "# generate training and testing data\n",
    "train_input, train_target = generate_data(NB_SAMPLE)\n",
    "test_input, test_target = generate_data(NB_SAMPLE)\n",
    "datasets = (train_input, train_target, test_input, test_target)\n",
    "DATABASE = load(new=True)\n",
    "\n",
    "\n",
    "for params in itertools.product(lr_list, wd_list, hl_list):\n",
    "    \n",
    "    UNIQ_ID = random()\n",
    "    MODEL_DESCR = [('lin', 2, params[2]), ('relu'), ('lin', params[2], params[2]), ('relu'), ('lin', params[2], 1)]\n",
    "    LEARNING_RATE = params[0]\n",
    "    WEIGHT_DECAY = params[1]\n",
    "\n",
    "    plt.figure()\n",
    "    for key in dict_models.keys():\n",
    "        \n",
    "        print(\"Training {}\".format(key))\n",
    "        start = time.perf_counter()\n",
    "        tr_mean, tr_std, te_mean, te_std, tr_loss = evaluate_model(datasets, rounds = ROUNDS, epochs=EPOCHS, is_custom=dict_models[key], model_description=MODEL_DESCR)\n",
    "        avg_time = (time.perf_counter() - start) / ROUNDS\n",
    "\n",
    "        DATABASE = DATABASE.append(dict(zip(cols, [dict_models[key], ROUNDS, NB_SAMPLE, LEARNING_RATE, WEIGHT_DECAY, tr_loss.detach().numpy(), tr_mean.item(), tr_std.item(), te_mean.item(), te_std.item(), avg_time, UNIQ_ID, MODEL_DESCR])), ignore_index=True)\n",
    "        plt.plot(tr_loss.detach(), label = \"{}\".format(key))\n",
    "\n",
    "    # Save the result into a dataframe\n",
    "    store()\n",
    "\n",
    "# plot the figure\n",
    "# print_report(UNIQ_ID)\n",
    "# plot_loss(UNIQ_ID)"
   ]
  },
  {
   "cell_type": "code",
   "execution_count": 17,
   "metadata": {},
   "outputs": [
    {
     "output_type": "execute_result",
     "data": {
      "text/plain": [
       "  custom_framework rounds samples  learning_rate weight_decay  \\\n",
       "0             True     10     100         0.0001            0   \n",
       "1            False     10     100         0.0001            0   \n",
       "\n",
       "                                                loss  tr_mean    tr_std  \\\n",
       "0  [0.9857451, 0.98495114, 0.9841588, 0.98336804,...    0.500  0.000000   \n",
       "1  [0.98914814, 0.9887288, 0.98830986, 0.9878913,...    0.552  0.157537   \n",
       "\n",
       "   te_mean    te_std  duration        id  \\\n",
       "0    0.446  0.075895  0.526144  0.355063   \n",
       "1    0.508  0.191067  0.672403  0.355063   \n",
       "\n",
       "                                   model_description  \n",
       "0  [(lin, 2, 2), relu, (lin, 2, 2), relu, (lin, 2...  \n",
       "1  [(lin, 2, 2), relu, (lin, 2, 2), relu, (lin, 2...  "
      ],
      "text/html": "<div>\n<style scoped>\n    .dataframe tbody tr th:only-of-type {\n        vertical-align: middle;\n    }\n\n    .dataframe tbody tr th {\n        vertical-align: top;\n    }\n\n    .dataframe thead th {\n        text-align: right;\n    }\n</style>\n<table border=\"1\" class=\"dataframe\">\n  <thead>\n    <tr style=\"text-align: right;\">\n      <th></th>\n      <th>custom_framework</th>\n      <th>rounds</th>\n      <th>samples</th>\n      <th>learning_rate</th>\n      <th>weight_decay</th>\n      <th>loss</th>\n      <th>tr_mean</th>\n      <th>tr_std</th>\n      <th>te_mean</th>\n      <th>te_std</th>\n      <th>duration</th>\n      <th>id</th>\n      <th>model_description</th>\n    </tr>\n  </thead>\n  <tbody>\n    <tr>\n      <th>0</th>\n      <td>True</td>\n      <td>10</td>\n      <td>100</td>\n      <td>0.0001</td>\n      <td>0</td>\n      <td>[0.9857451, 0.98495114, 0.9841588, 0.98336804,...</td>\n      <td>0.500</td>\n      <td>0.000000</td>\n      <td>0.446</td>\n      <td>0.075895</td>\n      <td>0.526144</td>\n      <td>0.355063</td>\n      <td>[(lin, 2, 2), relu, (lin, 2, 2), relu, (lin, 2...</td>\n    </tr>\n    <tr>\n      <th>1</th>\n      <td>False</td>\n      <td>10</td>\n      <td>100</td>\n      <td>0.0001</td>\n      <td>0</td>\n      <td>[0.98914814, 0.9887288, 0.98830986, 0.9878913,...</td>\n      <td>0.552</td>\n      <td>0.157537</td>\n      <td>0.508</td>\n      <td>0.191067</td>\n      <td>0.672403</td>\n      <td>0.355063</td>\n      <td>[(lin, 2, 2), relu, (lin, 2, 2), relu, (lin, 2...</td>\n    </tr>\n  </tbody>\n</table>\n</div>"
     },
     "metadata": {},
     "execution_count": 17
    }
   ],
   "source": [
    "DATABASE.head(20)"
   ]
  },
  {
   "cell_type": "code",
   "execution_count": 18,
   "metadata": {},
   "outputs": [
    {
     "output_type": "stream",
     "name": "stdout",
     "text": [
      "Run with parameters: \n\t - DATASET_SIZE: 100, \t results averaged on 50 ROUNDS\n\t - model parameters: [('lin', 2, 25), 'relu', ('lin', 25, 25), 'relu', ('lin', 25, 1)]\n\t - optimizer parameters: LEARNING_RATE: 0.01 \t WEIGHT_DECAY: 0\nResults: \n\t - CUSTOM FRAMEWORK: \t training:  0.328 +/-  0.079 \t test: 0.417 +/-  0.057 \t computed in 0.5536541859999852 s\n\t - TORCH FRAMEWORK: \t training:  0.323 +/-  0.082 \t test: 0.409 +/-  0.067 \t computed in 0.789679071999999 s\n\n"
     ]
    },
    {
     "output_type": "display_data",
     "data": {
      "text/plain": "<Figure size 432x288 with 1 Axes>",
      "image/svg+xml": "<?xml version=\"1.0\" encoding=\"utf-8\" standalone=\"no\"?>\r\n<!DOCTYPE svg PUBLIC \"-//W3C//DTD SVG 1.1//EN\"\r\n  \"http://www.w3.org/Graphics/SVG/1.1/DTD/svg11.dtd\">\r\n<!-- Created with matplotlib (https://matplotlib.org/) -->\r\n<svg height=\"262.19625pt\" version=\"1.1\" viewBox=\"0 0 392.14375 262.19625\" width=\"392.14375pt\" xmlns=\"http://www.w3.org/2000/svg\" xmlns:xlink=\"http://www.w3.org/1999/xlink\">\r\n <metadata>\r\n  <rdf:RDF xmlns:cc=\"http://creativecommons.org/ns#\" xmlns:dc=\"http://purl.org/dc/elements/1.1/\" xmlns:rdf=\"http://www.w3.org/1999/02/22-rdf-syntax-ns#\">\r\n   <cc:Work>\r\n    <dc:type rdf:resource=\"http://purl.org/dc/dcmitype/StillImage\"/>\r\n    <dc:date>2021-05-20T15:34:55.146376</dc:date>\r\n    <dc:format>image/svg+xml</dc:format>\r\n    <dc:creator>\r\n     <cc:Agent>\r\n      <dc:title>Matplotlib v3.3.2, https://matplotlib.org/</dc:title>\r\n     </cc:Agent>\r\n    </dc:creator>\r\n   </cc:Work>\r\n  </rdf:RDF>\r\n </metadata>\r\n <defs>\r\n  <style type=\"text/css\">*{stroke-linecap:butt;stroke-linejoin:round;}</style>\r\n </defs>\r\n <g id=\"figure_1\">\r\n  <g id=\"patch_1\">\r\n   <path d=\"M 0 262.19625 \r\nL 392.14375 262.19625 \r\nL 392.14375 0 \r\nL 0 0 \r\nz\r\n\" style=\"fill:none;\"/>\r\n  </g>\r\n  <g id=\"axes_1\">\r\n   <g id=\"patch_2\">\r\n    <path d=\"M 50.14375 224.64 \r\nL 384.94375 224.64 \r\nL 384.94375 7.2 \r\nL 50.14375 7.2 \r\nz\r\n\" style=\"fill:#ffffff;\"/>\r\n   </g>\r\n   <g id=\"matplotlib.axis_1\">\r\n    <g id=\"xtick_1\">\r\n     <g id=\"line2d_1\">\r\n      <defs>\r\n       <path d=\"M 0 0 \r\nL 0 3.5 \r\n\" id=\"m9df0228f2b\" style=\"stroke:#000000;stroke-width:0.8;\"/>\r\n      </defs>\r\n      <g>\r\n       <use style=\"stroke:#000000;stroke-width:0.8;\" x=\"65.361932\" xlink:href=\"#m9df0228f2b\" y=\"224.64\"/>\r\n      </g>\r\n     </g>\r\n     <g id=\"text_1\">\r\n      <!-- 0 -->\r\n      <g transform=\"translate(62.180682 239.238438)scale(0.1 -0.1)\">\r\n       <defs>\r\n        <path d=\"M 31.78125 66.40625 \r\nQ 24.171875 66.40625 20.328125 58.90625 \r\nQ 16.5 51.421875 16.5 36.375 \r\nQ 16.5 21.390625 20.328125 13.890625 \r\nQ 24.171875 6.390625 31.78125 6.390625 \r\nQ 39.453125 6.390625 43.28125 13.890625 \r\nQ 47.125 21.390625 47.125 36.375 \r\nQ 47.125 51.421875 43.28125 58.90625 \r\nQ 39.453125 66.40625 31.78125 66.40625 \r\nz\r\nM 31.78125 74.21875 \r\nQ 44.046875 74.21875 50.515625 64.515625 \r\nQ 56.984375 54.828125 56.984375 36.375 \r\nQ 56.984375 17.96875 50.515625 8.265625 \r\nQ 44.046875 -1.421875 31.78125 -1.421875 \r\nQ 19.53125 -1.421875 13.0625 8.265625 \r\nQ 6.59375 17.96875 6.59375 36.375 \r\nQ 6.59375 54.828125 13.0625 64.515625 \r\nQ 19.53125 74.21875 31.78125 74.21875 \r\nz\r\n\" id=\"DejaVuSans-48\"/>\r\n       </defs>\r\n       <use xlink:href=\"#DejaVuSans-48\"/>\r\n      </g>\r\n     </g>\r\n    </g>\r\n    <g id=\"xtick_2\">\r\n     <g id=\"line2d_2\">\r\n      <g>\r\n       <use style=\"stroke:#000000;stroke-width:0.8;\" x=\"126.295593\" xlink:href=\"#m9df0228f2b\" y=\"224.64\"/>\r\n      </g>\r\n     </g>\r\n     <g id=\"text_2\">\r\n      <!-- 200 -->\r\n      <g transform=\"translate(116.751843 239.238438)scale(0.1 -0.1)\">\r\n       <defs>\r\n        <path d=\"M 19.1875 8.296875 \r\nL 53.609375 8.296875 \r\nL 53.609375 0 \r\nL 7.328125 0 \r\nL 7.328125 8.296875 \r\nQ 12.9375 14.109375 22.625 23.890625 \r\nQ 32.328125 33.6875 34.8125 36.53125 \r\nQ 39.546875 41.84375 41.421875 45.53125 \r\nQ 43.3125 49.21875 43.3125 52.78125 \r\nQ 43.3125 58.59375 39.234375 62.25 \r\nQ 35.15625 65.921875 28.609375 65.921875 \r\nQ 23.96875 65.921875 18.8125 64.3125 \r\nQ 13.671875 62.703125 7.8125 59.421875 \r\nL 7.8125 69.390625 \r\nQ 13.765625 71.78125 18.9375 73 \r\nQ 24.125 74.21875 28.421875 74.21875 \r\nQ 39.75 74.21875 46.484375 68.546875 \r\nQ 53.21875 62.890625 53.21875 53.421875 \r\nQ 53.21875 48.921875 51.53125 44.890625 \r\nQ 49.859375 40.875 45.40625 35.40625 \r\nQ 44.1875 33.984375 37.640625 27.21875 \r\nQ 31.109375 20.453125 19.1875 8.296875 \r\nz\r\n\" id=\"DejaVuSans-50\"/>\r\n       </defs>\r\n       <use xlink:href=\"#DejaVuSans-50\"/>\r\n       <use x=\"63.623047\" xlink:href=\"#DejaVuSans-48\"/>\r\n       <use x=\"127.246094\" xlink:href=\"#DejaVuSans-48\"/>\r\n      </g>\r\n     </g>\r\n    </g>\r\n    <g id=\"xtick_3\">\r\n     <g id=\"line2d_3\">\r\n      <g>\r\n       <use style=\"stroke:#000000;stroke-width:0.8;\" x=\"187.229254\" xlink:href=\"#m9df0228f2b\" y=\"224.64\"/>\r\n      </g>\r\n     </g>\r\n     <g id=\"text_3\">\r\n      <!-- 400 -->\r\n      <g transform=\"translate(177.685504 239.238438)scale(0.1 -0.1)\">\r\n       <defs>\r\n        <path d=\"M 37.796875 64.3125 \r\nL 12.890625 25.390625 \r\nL 37.796875 25.390625 \r\nz\r\nM 35.203125 72.90625 \r\nL 47.609375 72.90625 \r\nL 47.609375 25.390625 \r\nL 58.015625 25.390625 \r\nL 58.015625 17.1875 \r\nL 47.609375 17.1875 \r\nL 47.609375 0 \r\nL 37.796875 0 \r\nL 37.796875 17.1875 \r\nL 4.890625 17.1875 \r\nL 4.890625 26.703125 \r\nz\r\n\" id=\"DejaVuSans-52\"/>\r\n       </defs>\r\n       <use xlink:href=\"#DejaVuSans-52\"/>\r\n       <use x=\"63.623047\" xlink:href=\"#DejaVuSans-48\"/>\r\n       <use x=\"127.246094\" xlink:href=\"#DejaVuSans-48\"/>\r\n      </g>\r\n     </g>\r\n    </g>\r\n    <g id=\"xtick_4\">\r\n     <g id=\"line2d_4\">\r\n      <g>\r\n       <use style=\"stroke:#000000;stroke-width:0.8;\" x=\"248.162915\" xlink:href=\"#m9df0228f2b\" y=\"224.64\"/>\r\n      </g>\r\n     </g>\r\n     <g id=\"text_4\">\r\n      <!-- 600 -->\r\n      <g transform=\"translate(238.619165 239.238438)scale(0.1 -0.1)\">\r\n       <defs>\r\n        <path d=\"M 33.015625 40.375 \r\nQ 26.375 40.375 22.484375 35.828125 \r\nQ 18.609375 31.296875 18.609375 23.390625 \r\nQ 18.609375 15.53125 22.484375 10.953125 \r\nQ 26.375 6.390625 33.015625 6.390625 \r\nQ 39.65625 6.390625 43.53125 10.953125 \r\nQ 47.40625 15.53125 47.40625 23.390625 \r\nQ 47.40625 31.296875 43.53125 35.828125 \r\nQ 39.65625 40.375 33.015625 40.375 \r\nz\r\nM 52.59375 71.296875 \r\nL 52.59375 62.3125 \r\nQ 48.875 64.0625 45.09375 64.984375 \r\nQ 41.3125 65.921875 37.59375 65.921875 \r\nQ 27.828125 65.921875 22.671875 59.328125 \r\nQ 17.53125 52.734375 16.796875 39.40625 \r\nQ 19.671875 43.65625 24.015625 45.921875 \r\nQ 28.375 48.1875 33.59375 48.1875 \r\nQ 44.578125 48.1875 50.953125 41.515625 \r\nQ 57.328125 34.859375 57.328125 23.390625 \r\nQ 57.328125 12.15625 50.6875 5.359375 \r\nQ 44.046875 -1.421875 33.015625 -1.421875 \r\nQ 20.359375 -1.421875 13.671875 8.265625 \r\nQ 6.984375 17.96875 6.984375 36.375 \r\nQ 6.984375 53.65625 15.1875 63.9375 \r\nQ 23.390625 74.21875 37.203125 74.21875 \r\nQ 40.921875 74.21875 44.703125 73.484375 \r\nQ 48.484375 72.75 52.59375 71.296875 \r\nz\r\n\" id=\"DejaVuSans-54\"/>\r\n       </defs>\r\n       <use xlink:href=\"#DejaVuSans-54\"/>\r\n       <use x=\"63.623047\" xlink:href=\"#DejaVuSans-48\"/>\r\n       <use x=\"127.246094\" xlink:href=\"#DejaVuSans-48\"/>\r\n      </g>\r\n     </g>\r\n    </g>\r\n    <g id=\"xtick_5\">\r\n     <g id=\"line2d_5\">\r\n      <g>\r\n       <use style=\"stroke:#000000;stroke-width:0.8;\" x=\"309.096576\" xlink:href=\"#m9df0228f2b\" y=\"224.64\"/>\r\n      </g>\r\n     </g>\r\n     <g id=\"text_5\">\r\n      <!-- 800 -->\r\n      <g transform=\"translate(299.552826 239.238438)scale(0.1 -0.1)\">\r\n       <defs>\r\n        <path d=\"M 31.78125 34.625 \r\nQ 24.75 34.625 20.71875 30.859375 \r\nQ 16.703125 27.09375 16.703125 20.515625 \r\nQ 16.703125 13.921875 20.71875 10.15625 \r\nQ 24.75 6.390625 31.78125 6.390625 \r\nQ 38.8125 6.390625 42.859375 10.171875 \r\nQ 46.921875 13.96875 46.921875 20.515625 \r\nQ 46.921875 27.09375 42.890625 30.859375 \r\nQ 38.875 34.625 31.78125 34.625 \r\nz\r\nM 21.921875 38.8125 \r\nQ 15.578125 40.375 12.03125 44.71875 \r\nQ 8.5 49.078125 8.5 55.328125 \r\nQ 8.5 64.0625 14.71875 69.140625 \r\nQ 20.953125 74.21875 31.78125 74.21875 \r\nQ 42.671875 74.21875 48.875 69.140625 \r\nQ 55.078125 64.0625 55.078125 55.328125 \r\nQ 55.078125 49.078125 51.53125 44.71875 \r\nQ 48 40.375 41.703125 38.8125 \r\nQ 48.828125 37.15625 52.796875 32.3125 \r\nQ 56.78125 27.484375 56.78125 20.515625 \r\nQ 56.78125 9.90625 50.3125 4.234375 \r\nQ 43.84375 -1.421875 31.78125 -1.421875 \r\nQ 19.734375 -1.421875 13.25 4.234375 \r\nQ 6.78125 9.90625 6.78125 20.515625 \r\nQ 6.78125 27.484375 10.78125 32.3125 \r\nQ 14.796875 37.15625 21.921875 38.8125 \r\nz\r\nM 18.3125 54.390625 \r\nQ 18.3125 48.734375 21.84375 45.5625 \r\nQ 25.390625 42.390625 31.78125 42.390625 \r\nQ 38.140625 42.390625 41.71875 45.5625 \r\nQ 45.3125 48.734375 45.3125 54.390625 \r\nQ 45.3125 60.0625 41.71875 63.234375 \r\nQ 38.140625 66.40625 31.78125 66.40625 \r\nQ 25.390625 66.40625 21.84375 63.234375 \r\nQ 18.3125 60.0625 18.3125 54.390625 \r\nz\r\n\" id=\"DejaVuSans-56\"/>\r\n       </defs>\r\n       <use xlink:href=\"#DejaVuSans-56\"/>\r\n       <use x=\"63.623047\" xlink:href=\"#DejaVuSans-48\"/>\r\n       <use x=\"127.246094\" xlink:href=\"#DejaVuSans-48\"/>\r\n      </g>\r\n     </g>\r\n    </g>\r\n    <g id=\"xtick_6\">\r\n     <g id=\"line2d_6\">\r\n      <g>\r\n       <use style=\"stroke:#000000;stroke-width:0.8;\" x=\"370.030236\" xlink:href=\"#m9df0228f2b\" y=\"224.64\"/>\r\n      </g>\r\n     </g>\r\n     <g id=\"text_6\">\r\n      <!-- 1000 -->\r\n      <g transform=\"translate(357.305236 239.238438)scale(0.1 -0.1)\">\r\n       <defs>\r\n        <path d=\"M 12.40625 8.296875 \r\nL 28.515625 8.296875 \r\nL 28.515625 63.921875 \r\nL 10.984375 60.40625 \r\nL 10.984375 69.390625 \r\nL 28.421875 72.90625 \r\nL 38.28125 72.90625 \r\nL 38.28125 8.296875 \r\nL 54.390625 8.296875 \r\nL 54.390625 0 \r\nL 12.40625 0 \r\nz\r\n\" id=\"DejaVuSans-49\"/>\r\n       </defs>\r\n       <use xlink:href=\"#DejaVuSans-49\"/>\r\n       <use x=\"63.623047\" xlink:href=\"#DejaVuSans-48\"/>\r\n       <use x=\"127.246094\" xlink:href=\"#DejaVuSans-48\"/>\r\n       <use x=\"190.869141\" xlink:href=\"#DejaVuSans-48\"/>\r\n      </g>\r\n     </g>\r\n    </g>\r\n    <g id=\"text_7\">\r\n     <!-- Epochs -->\r\n     <g transform=\"translate(199.628125 252.916563)scale(0.1 -0.1)\">\r\n      <defs>\r\n       <path d=\"M 9.8125 72.90625 \r\nL 55.90625 72.90625 \r\nL 55.90625 64.59375 \r\nL 19.671875 64.59375 \r\nL 19.671875 43.015625 \r\nL 54.390625 43.015625 \r\nL 54.390625 34.71875 \r\nL 19.671875 34.71875 \r\nL 19.671875 8.296875 \r\nL 56.78125 8.296875 \r\nL 56.78125 0 \r\nL 9.8125 0 \r\nz\r\n\" id=\"DejaVuSans-69\"/>\r\n       <path d=\"M 18.109375 8.203125 \r\nL 18.109375 -20.796875 \r\nL 9.078125 -20.796875 \r\nL 9.078125 54.6875 \r\nL 18.109375 54.6875 \r\nL 18.109375 46.390625 \r\nQ 20.953125 51.265625 25.265625 53.625 \r\nQ 29.59375 56 35.59375 56 \r\nQ 45.5625 56 51.78125 48.09375 \r\nQ 58.015625 40.1875 58.015625 27.296875 \r\nQ 58.015625 14.40625 51.78125 6.484375 \r\nQ 45.5625 -1.421875 35.59375 -1.421875 \r\nQ 29.59375 -1.421875 25.265625 0.953125 \r\nQ 20.953125 3.328125 18.109375 8.203125 \r\nz\r\nM 48.6875 27.296875 \r\nQ 48.6875 37.203125 44.609375 42.84375 \r\nQ 40.53125 48.484375 33.40625 48.484375 \r\nQ 26.265625 48.484375 22.1875 42.84375 \r\nQ 18.109375 37.203125 18.109375 27.296875 \r\nQ 18.109375 17.390625 22.1875 11.75 \r\nQ 26.265625 6.109375 33.40625 6.109375 \r\nQ 40.53125 6.109375 44.609375 11.75 \r\nQ 48.6875 17.390625 48.6875 27.296875 \r\nz\r\n\" id=\"DejaVuSans-112\"/>\r\n       <path d=\"M 30.609375 48.390625 \r\nQ 23.390625 48.390625 19.1875 42.75 \r\nQ 14.984375 37.109375 14.984375 27.296875 \r\nQ 14.984375 17.484375 19.15625 11.84375 \r\nQ 23.34375 6.203125 30.609375 6.203125 \r\nQ 37.796875 6.203125 41.984375 11.859375 \r\nQ 46.1875 17.53125 46.1875 27.296875 \r\nQ 46.1875 37.015625 41.984375 42.703125 \r\nQ 37.796875 48.390625 30.609375 48.390625 \r\nz\r\nM 30.609375 56 \r\nQ 42.328125 56 49.015625 48.375 \r\nQ 55.71875 40.765625 55.71875 27.296875 \r\nQ 55.71875 13.875 49.015625 6.21875 \r\nQ 42.328125 -1.421875 30.609375 -1.421875 \r\nQ 18.84375 -1.421875 12.171875 6.21875 \r\nQ 5.515625 13.875 5.515625 27.296875 \r\nQ 5.515625 40.765625 12.171875 48.375 \r\nQ 18.84375 56 30.609375 56 \r\nz\r\n\" id=\"DejaVuSans-111\"/>\r\n       <path d=\"M 48.78125 52.59375 \r\nL 48.78125 44.1875 \r\nQ 44.96875 46.296875 41.140625 47.34375 \r\nQ 37.3125 48.390625 33.40625 48.390625 \r\nQ 24.65625 48.390625 19.8125 42.84375 \r\nQ 14.984375 37.3125 14.984375 27.296875 \r\nQ 14.984375 17.28125 19.8125 11.734375 \r\nQ 24.65625 6.203125 33.40625 6.203125 \r\nQ 37.3125 6.203125 41.140625 7.25 \r\nQ 44.96875 8.296875 48.78125 10.40625 \r\nL 48.78125 2.09375 \r\nQ 45.015625 0.34375 40.984375 -0.53125 \r\nQ 36.96875 -1.421875 32.421875 -1.421875 \r\nQ 20.0625 -1.421875 12.78125 6.34375 \r\nQ 5.515625 14.109375 5.515625 27.296875 \r\nQ 5.515625 40.671875 12.859375 48.328125 \r\nQ 20.21875 56 33.015625 56 \r\nQ 37.15625 56 41.109375 55.140625 \r\nQ 45.0625 54.296875 48.78125 52.59375 \r\nz\r\n\" id=\"DejaVuSans-99\"/>\r\n       <path d=\"M 54.890625 33.015625 \r\nL 54.890625 0 \r\nL 45.90625 0 \r\nL 45.90625 32.71875 \r\nQ 45.90625 40.484375 42.875 44.328125 \r\nQ 39.84375 48.1875 33.796875 48.1875 \r\nQ 26.515625 48.1875 22.3125 43.546875 \r\nQ 18.109375 38.921875 18.109375 30.90625 \r\nL 18.109375 0 \r\nL 9.078125 0 \r\nL 9.078125 75.984375 \r\nL 18.109375 75.984375 \r\nL 18.109375 46.1875 \r\nQ 21.34375 51.125 25.703125 53.5625 \r\nQ 30.078125 56 35.796875 56 \r\nQ 45.21875 56 50.046875 50.171875 \r\nQ 54.890625 44.34375 54.890625 33.015625 \r\nz\r\n\" id=\"DejaVuSans-104\"/>\r\n       <path d=\"M 44.28125 53.078125 \r\nL 44.28125 44.578125 \r\nQ 40.484375 46.53125 36.375 47.5 \r\nQ 32.28125 48.484375 27.875 48.484375 \r\nQ 21.1875 48.484375 17.84375 46.4375 \r\nQ 14.5 44.390625 14.5 40.28125 \r\nQ 14.5 37.15625 16.890625 35.375 \r\nQ 19.28125 33.59375 26.515625 31.984375 \r\nL 29.59375 31.296875 \r\nQ 39.15625 29.25 43.1875 25.515625 \r\nQ 47.21875 21.78125 47.21875 15.09375 \r\nQ 47.21875 7.46875 41.1875 3.015625 \r\nQ 35.15625 -1.421875 24.609375 -1.421875 \r\nQ 20.21875 -1.421875 15.453125 -0.5625 \r\nQ 10.6875 0.296875 5.421875 2 \r\nL 5.421875 11.28125 \r\nQ 10.40625 8.6875 15.234375 7.390625 \r\nQ 20.0625 6.109375 24.8125 6.109375 \r\nQ 31.15625 6.109375 34.5625 8.28125 \r\nQ 37.984375 10.453125 37.984375 14.40625 \r\nQ 37.984375 18.0625 35.515625 20.015625 \r\nQ 33.0625 21.96875 24.703125 23.78125 \r\nL 21.578125 24.515625 \r\nQ 13.234375 26.265625 9.515625 29.90625 \r\nQ 5.8125 33.546875 5.8125 39.890625 \r\nQ 5.8125 47.609375 11.28125 51.796875 \r\nQ 16.75 56 26.8125 56 \r\nQ 31.78125 56 36.171875 55.265625 \r\nQ 40.578125 54.546875 44.28125 53.078125 \r\nz\r\n\" id=\"DejaVuSans-115\"/>\r\n      </defs>\r\n      <use xlink:href=\"#DejaVuSans-69\"/>\r\n      <use x=\"63.183594\" xlink:href=\"#DejaVuSans-112\"/>\r\n      <use x=\"126.660156\" xlink:href=\"#DejaVuSans-111\"/>\r\n      <use x=\"187.841797\" xlink:href=\"#DejaVuSans-99\"/>\r\n      <use x=\"242.822266\" xlink:href=\"#DejaVuSans-104\"/>\r\n      <use x=\"306.201172\" xlink:href=\"#DejaVuSans-115\"/>\r\n     </g>\r\n    </g>\r\n   </g>\r\n   <g id=\"matplotlib.axis_2\">\r\n    <g id=\"ytick_1\">\r\n     <g id=\"line2d_7\">\r\n      <defs>\r\n       <path d=\"M 0 0 \r\nL -3.5 0 \r\n\" id=\"m5abf8bc524\" style=\"stroke:#000000;stroke-width:0.8;\"/>\r\n      </defs>\r\n      <g>\r\n       <use style=\"stroke:#000000;stroke-width:0.8;\" x=\"50.14375\" xlink:href=\"#m5abf8bc524\" y=\"222.596375\"/>\r\n      </g>\r\n     </g>\r\n     <g id=\"text_8\">\r\n      <!-- 0.20 -->\r\n      <g transform=\"translate(20.878125 226.395593)scale(0.1 -0.1)\">\r\n       <defs>\r\n        <path d=\"M 10.6875 12.40625 \r\nL 21 12.40625 \r\nL 21 0 \r\nL 10.6875 0 \r\nz\r\n\" id=\"DejaVuSans-46\"/>\r\n       </defs>\r\n       <use xlink:href=\"#DejaVuSans-48\"/>\r\n       <use x=\"63.623047\" xlink:href=\"#DejaVuSans-46\"/>\r\n       <use x=\"95.410156\" xlink:href=\"#DejaVuSans-50\"/>\r\n       <use x=\"159.033203\" xlink:href=\"#DejaVuSans-48\"/>\r\n      </g>\r\n     </g>\r\n    </g>\r\n    <g id=\"ytick_2\">\r\n     <g id=\"line2d_8\">\r\n      <g>\r\n       <use style=\"stroke:#000000;stroke-width:0.8;\" x=\"50.14375\" xlink:href=\"#m5abf8bc524\" y=\"194.673522\"/>\r\n      </g>\r\n     </g>\r\n     <g id=\"text_9\">\r\n      <!-- 0.25 -->\r\n      <g transform=\"translate(20.878125 198.472741)scale(0.1 -0.1)\">\r\n       <defs>\r\n        <path d=\"M 10.796875 72.90625 \r\nL 49.515625 72.90625 \r\nL 49.515625 64.59375 \r\nL 19.828125 64.59375 \r\nL 19.828125 46.734375 \r\nQ 21.96875 47.46875 24.109375 47.828125 \r\nQ 26.265625 48.1875 28.421875 48.1875 \r\nQ 40.625 48.1875 47.75 41.5 \r\nQ 54.890625 34.8125 54.890625 23.390625 \r\nQ 54.890625 11.625 47.5625 5.09375 \r\nQ 40.234375 -1.421875 26.90625 -1.421875 \r\nQ 22.3125 -1.421875 17.546875 -0.640625 \r\nQ 12.796875 0.140625 7.71875 1.703125 \r\nL 7.71875 11.625 \r\nQ 12.109375 9.234375 16.796875 8.0625 \r\nQ 21.484375 6.890625 26.703125 6.890625 \r\nQ 35.15625 6.890625 40.078125 11.328125 \r\nQ 45.015625 15.765625 45.015625 23.390625 \r\nQ 45.015625 31 40.078125 35.4375 \r\nQ 35.15625 39.890625 26.703125 39.890625 \r\nQ 22.75 39.890625 18.8125 39.015625 \r\nQ 14.890625 38.140625 10.796875 36.28125 \r\nz\r\n\" id=\"DejaVuSans-53\"/>\r\n       </defs>\r\n       <use xlink:href=\"#DejaVuSans-48\"/>\r\n       <use x=\"63.623047\" xlink:href=\"#DejaVuSans-46\"/>\r\n       <use x=\"95.410156\" xlink:href=\"#DejaVuSans-50\"/>\r\n       <use x=\"159.033203\" xlink:href=\"#DejaVuSans-53\"/>\r\n      </g>\r\n     </g>\r\n    </g>\r\n    <g id=\"ytick_3\">\r\n     <g id=\"line2d_9\">\r\n      <g>\r\n       <use style=\"stroke:#000000;stroke-width:0.8;\" x=\"50.14375\" xlink:href=\"#m5abf8bc524\" y=\"166.750669\"/>\r\n      </g>\r\n     </g>\r\n     <g id=\"text_10\">\r\n      <!-- 0.30 -->\r\n      <g transform=\"translate(20.878125 170.549888)scale(0.1 -0.1)\">\r\n       <defs>\r\n        <path d=\"M 40.578125 39.3125 \r\nQ 47.65625 37.796875 51.625 33 \r\nQ 55.609375 28.21875 55.609375 21.1875 \r\nQ 55.609375 10.40625 48.1875 4.484375 \r\nQ 40.765625 -1.421875 27.09375 -1.421875 \r\nQ 22.515625 -1.421875 17.65625 -0.515625 \r\nQ 12.796875 0.390625 7.625 2.203125 \r\nL 7.625 11.71875 \r\nQ 11.71875 9.328125 16.59375 8.109375 \r\nQ 21.484375 6.890625 26.8125 6.890625 \r\nQ 36.078125 6.890625 40.9375 10.546875 \r\nQ 45.796875 14.203125 45.796875 21.1875 \r\nQ 45.796875 27.640625 41.28125 31.265625 \r\nQ 36.765625 34.90625 28.71875 34.90625 \r\nL 20.21875 34.90625 \r\nL 20.21875 43.015625 \r\nL 29.109375 43.015625 \r\nQ 36.375 43.015625 40.234375 45.921875 \r\nQ 44.09375 48.828125 44.09375 54.296875 \r\nQ 44.09375 59.90625 40.109375 62.90625 \r\nQ 36.140625 65.921875 28.71875 65.921875 \r\nQ 24.65625 65.921875 20.015625 65.03125 \r\nQ 15.375 64.15625 9.8125 62.3125 \r\nL 9.8125 71.09375 \r\nQ 15.4375 72.65625 20.34375 73.4375 \r\nQ 25.25 74.21875 29.59375 74.21875 \r\nQ 40.828125 74.21875 47.359375 69.109375 \r\nQ 53.90625 64.015625 53.90625 55.328125 \r\nQ 53.90625 49.265625 50.4375 45.09375 \r\nQ 46.96875 40.921875 40.578125 39.3125 \r\nz\r\n\" id=\"DejaVuSans-51\"/>\r\n       </defs>\r\n       <use xlink:href=\"#DejaVuSans-48\"/>\r\n       <use x=\"63.623047\" xlink:href=\"#DejaVuSans-46\"/>\r\n       <use x=\"95.410156\" xlink:href=\"#DejaVuSans-51\"/>\r\n       <use x=\"159.033203\" xlink:href=\"#DejaVuSans-48\"/>\r\n      </g>\r\n     </g>\r\n    </g>\r\n    <g id=\"ytick_4\">\r\n     <g id=\"line2d_10\">\r\n      <g>\r\n       <use style=\"stroke:#000000;stroke-width:0.8;\" x=\"50.14375\" xlink:href=\"#m5abf8bc524\" y=\"138.827817\"/>\r\n      </g>\r\n     </g>\r\n     <g id=\"text_11\">\r\n      <!-- 0.35 -->\r\n      <g transform=\"translate(20.878125 142.627035)scale(0.1 -0.1)\">\r\n       <use xlink:href=\"#DejaVuSans-48\"/>\r\n       <use x=\"63.623047\" xlink:href=\"#DejaVuSans-46\"/>\r\n       <use x=\"95.410156\" xlink:href=\"#DejaVuSans-51\"/>\r\n       <use x=\"159.033203\" xlink:href=\"#DejaVuSans-53\"/>\r\n      </g>\r\n     </g>\r\n    </g>\r\n    <g id=\"ytick_5\">\r\n     <g id=\"line2d_11\">\r\n      <g>\r\n       <use style=\"stroke:#000000;stroke-width:0.8;\" x=\"50.14375\" xlink:href=\"#m5abf8bc524\" y=\"110.904964\"/>\r\n      </g>\r\n     </g>\r\n     <g id=\"text_12\">\r\n      <!-- 0.40 -->\r\n      <g transform=\"translate(20.878125 114.704183)scale(0.1 -0.1)\">\r\n       <use xlink:href=\"#DejaVuSans-48\"/>\r\n       <use x=\"63.623047\" xlink:href=\"#DejaVuSans-46\"/>\r\n       <use x=\"95.410156\" xlink:href=\"#DejaVuSans-52\"/>\r\n       <use x=\"159.033203\" xlink:href=\"#DejaVuSans-48\"/>\r\n      </g>\r\n     </g>\r\n    </g>\r\n    <g id=\"ytick_6\">\r\n     <g id=\"line2d_12\">\r\n      <g>\r\n       <use style=\"stroke:#000000;stroke-width:0.8;\" x=\"50.14375\" xlink:href=\"#m5abf8bc524\" y=\"82.982112\"/>\r\n      </g>\r\n     </g>\r\n     <g id=\"text_13\">\r\n      <!-- 0.45 -->\r\n      <g transform=\"translate(20.878125 86.78133)scale(0.1 -0.1)\">\r\n       <use xlink:href=\"#DejaVuSans-48\"/>\r\n       <use x=\"63.623047\" xlink:href=\"#DejaVuSans-46\"/>\r\n       <use x=\"95.410156\" xlink:href=\"#DejaVuSans-52\"/>\r\n       <use x=\"159.033203\" xlink:href=\"#DejaVuSans-53\"/>\r\n      </g>\r\n     </g>\r\n    </g>\r\n    <g id=\"ytick_7\">\r\n     <g id=\"line2d_13\">\r\n      <g>\r\n       <use style=\"stroke:#000000;stroke-width:0.8;\" x=\"50.14375\" xlink:href=\"#m5abf8bc524\" y=\"55.059259\"/>\r\n      </g>\r\n     </g>\r\n     <g id=\"text_14\">\r\n      <!-- 0.50 -->\r\n      <g transform=\"translate(20.878125 58.858478)scale(0.1 -0.1)\">\r\n       <use xlink:href=\"#DejaVuSans-48\"/>\r\n       <use x=\"63.623047\" xlink:href=\"#DejaVuSans-46\"/>\r\n       <use x=\"95.410156\" xlink:href=\"#DejaVuSans-53\"/>\r\n       <use x=\"159.033203\" xlink:href=\"#DejaVuSans-48\"/>\r\n      </g>\r\n     </g>\r\n    </g>\r\n    <g id=\"ytick_8\">\r\n     <g id=\"line2d_14\">\r\n      <g>\r\n       <use style=\"stroke:#000000;stroke-width:0.8;\" x=\"50.14375\" xlink:href=\"#m5abf8bc524\" y=\"27.136406\"/>\r\n      </g>\r\n     </g>\r\n     <g id=\"text_15\">\r\n      <!-- 0.55 -->\r\n      <g transform=\"translate(20.878125 30.935625)scale(0.1 -0.1)\">\r\n       <use xlink:href=\"#DejaVuSans-48\"/>\r\n       <use x=\"63.623047\" xlink:href=\"#DejaVuSans-46\"/>\r\n       <use x=\"95.410156\" xlink:href=\"#DejaVuSans-53\"/>\r\n       <use x=\"159.033203\" xlink:href=\"#DejaVuSans-53\"/>\r\n      </g>\r\n     </g>\r\n    </g>\r\n    <g id=\"text_16\">\r\n     <!-- Training loss -->\r\n     <g transform=\"translate(14.798438 146.892656)rotate(-90)scale(0.1 -0.1)\">\r\n      <defs>\r\n       <path d=\"M -0.296875 72.90625 \r\nL 61.375 72.90625 \r\nL 61.375 64.59375 \r\nL 35.5 64.59375 \r\nL 35.5 0 \r\nL 25.59375 0 \r\nL 25.59375 64.59375 \r\nL -0.296875 64.59375 \r\nz\r\n\" id=\"DejaVuSans-84\"/>\r\n       <path d=\"M 41.109375 46.296875 \r\nQ 39.59375 47.171875 37.8125 47.578125 \r\nQ 36.03125 48 33.890625 48 \r\nQ 26.265625 48 22.1875 43.046875 \r\nQ 18.109375 38.09375 18.109375 28.8125 \r\nL 18.109375 0 \r\nL 9.078125 0 \r\nL 9.078125 54.6875 \r\nL 18.109375 54.6875 \r\nL 18.109375 46.1875 \r\nQ 20.953125 51.171875 25.484375 53.578125 \r\nQ 30.03125 56 36.53125 56 \r\nQ 37.453125 56 38.578125 55.875 \r\nQ 39.703125 55.765625 41.0625 55.515625 \r\nz\r\n\" id=\"DejaVuSans-114\"/>\r\n       <path d=\"M 34.28125 27.484375 \r\nQ 23.390625 27.484375 19.1875 25 \r\nQ 14.984375 22.515625 14.984375 16.5 \r\nQ 14.984375 11.71875 18.140625 8.90625 \r\nQ 21.296875 6.109375 26.703125 6.109375 \r\nQ 34.1875 6.109375 38.703125 11.40625 \r\nQ 43.21875 16.703125 43.21875 25.484375 \r\nL 43.21875 27.484375 \r\nz\r\nM 52.203125 31.203125 \r\nL 52.203125 0 \r\nL 43.21875 0 \r\nL 43.21875 8.296875 \r\nQ 40.140625 3.328125 35.546875 0.953125 \r\nQ 30.953125 -1.421875 24.3125 -1.421875 \r\nQ 15.921875 -1.421875 10.953125 3.296875 \r\nQ 6 8.015625 6 15.921875 \r\nQ 6 25.140625 12.171875 29.828125 \r\nQ 18.359375 34.515625 30.609375 34.515625 \r\nL 43.21875 34.515625 \r\nL 43.21875 35.40625 \r\nQ 43.21875 41.609375 39.140625 45 \r\nQ 35.0625 48.390625 27.6875 48.390625 \r\nQ 23 48.390625 18.546875 47.265625 \r\nQ 14.109375 46.140625 10.015625 43.890625 \r\nL 10.015625 52.203125 \r\nQ 14.9375 54.109375 19.578125 55.046875 \r\nQ 24.21875 56 28.609375 56 \r\nQ 40.484375 56 46.34375 49.84375 \r\nQ 52.203125 43.703125 52.203125 31.203125 \r\nz\r\n\" id=\"DejaVuSans-97\"/>\r\n       <path d=\"M 9.421875 54.6875 \r\nL 18.40625 54.6875 \r\nL 18.40625 0 \r\nL 9.421875 0 \r\nz\r\nM 9.421875 75.984375 \r\nL 18.40625 75.984375 \r\nL 18.40625 64.59375 \r\nL 9.421875 64.59375 \r\nz\r\n\" id=\"DejaVuSans-105\"/>\r\n       <path d=\"M 54.890625 33.015625 \r\nL 54.890625 0 \r\nL 45.90625 0 \r\nL 45.90625 32.71875 \r\nQ 45.90625 40.484375 42.875 44.328125 \r\nQ 39.84375 48.1875 33.796875 48.1875 \r\nQ 26.515625 48.1875 22.3125 43.546875 \r\nQ 18.109375 38.921875 18.109375 30.90625 \r\nL 18.109375 0 \r\nL 9.078125 0 \r\nL 9.078125 54.6875 \r\nL 18.109375 54.6875 \r\nL 18.109375 46.1875 \r\nQ 21.34375 51.125 25.703125 53.5625 \r\nQ 30.078125 56 35.796875 56 \r\nQ 45.21875 56 50.046875 50.171875 \r\nQ 54.890625 44.34375 54.890625 33.015625 \r\nz\r\n\" id=\"DejaVuSans-110\"/>\r\n       <path d=\"M 45.40625 27.984375 \r\nQ 45.40625 37.75 41.375 43.109375 \r\nQ 37.359375 48.484375 30.078125 48.484375 \r\nQ 22.859375 48.484375 18.828125 43.109375 \r\nQ 14.796875 37.75 14.796875 27.984375 \r\nQ 14.796875 18.265625 18.828125 12.890625 \r\nQ 22.859375 7.515625 30.078125 7.515625 \r\nQ 37.359375 7.515625 41.375 12.890625 \r\nQ 45.40625 18.265625 45.40625 27.984375 \r\nz\r\nM 54.390625 6.78125 \r\nQ 54.390625 -7.171875 48.1875 -13.984375 \r\nQ 42 -20.796875 29.203125 -20.796875 \r\nQ 24.46875 -20.796875 20.265625 -20.09375 \r\nQ 16.0625 -19.390625 12.109375 -17.921875 \r\nL 12.109375 -9.1875 \r\nQ 16.0625 -11.328125 19.921875 -12.34375 \r\nQ 23.78125 -13.375 27.78125 -13.375 \r\nQ 36.625 -13.375 41.015625 -8.765625 \r\nQ 45.40625 -4.15625 45.40625 5.171875 \r\nL 45.40625 9.625 \r\nQ 42.625 4.78125 38.28125 2.390625 \r\nQ 33.9375 0 27.875 0 \r\nQ 17.828125 0 11.671875 7.65625 \r\nQ 5.515625 15.328125 5.515625 27.984375 \r\nQ 5.515625 40.671875 11.671875 48.328125 \r\nQ 17.828125 56 27.875 56 \r\nQ 33.9375 56 38.28125 53.609375 \r\nQ 42.625 51.21875 45.40625 46.390625 \r\nL 45.40625 54.6875 \r\nL 54.390625 54.6875 \r\nz\r\n\" id=\"DejaVuSans-103\"/>\r\n       <path id=\"DejaVuSans-32\"/>\r\n       <path d=\"M 9.421875 75.984375 \r\nL 18.40625 75.984375 \r\nL 18.40625 0 \r\nL 9.421875 0 \r\nz\r\n\" id=\"DejaVuSans-108\"/>\r\n      </defs>\r\n      <use xlink:href=\"#DejaVuSans-84\"/>\r\n      <use x=\"46.333984\" xlink:href=\"#DejaVuSans-114\"/>\r\n      <use x=\"87.447266\" xlink:href=\"#DejaVuSans-97\"/>\r\n      <use x=\"148.726562\" xlink:href=\"#DejaVuSans-105\"/>\r\n      <use x=\"176.509766\" xlink:href=\"#DejaVuSans-110\"/>\r\n      <use x=\"239.888672\" xlink:href=\"#DejaVuSans-105\"/>\r\n      <use x=\"267.671875\" xlink:href=\"#DejaVuSans-110\"/>\r\n      <use x=\"331.050781\" xlink:href=\"#DejaVuSans-103\"/>\r\n      <use x=\"394.527344\" xlink:href=\"#DejaVuSans-32\"/>\r\n      <use x=\"426.314453\" xlink:href=\"#DejaVuSans-108\"/>\r\n      <use x=\"454.097656\" xlink:href=\"#DejaVuSans-111\"/>\r\n      <use x=\"515.279297\" xlink:href=\"#DejaVuSans-115\"/>\r\n      <use x=\"567.378906\" xlink:href=\"#DejaVuSans-115\"/>\r\n     </g>\r\n    </g>\r\n   </g>\r\n   <g id=\"line2d_15\">\r\n    <path clip-path=\"url(#p1bc0885b3f)\" d=\"M 65.361932 47.344749 \r\nL 66.275937 82.5433 \r\nL 67.189942 108.917466 \r\nL 68.103947 128.953523 \r\nL 69.017951 144.296248 \r\nL 69.931956 156.095927 \r\nL 70.845961 165.18193 \r\nL 71.759966 172.178531 \r\nL 72.673971 177.568386 \r\nL 73.587976 181.722774 \r\nL 74.501981 184.925664 \r\nL 75.415986 187.395865 \r\nL 76.329991 189.304288 \r\nL 77.243996 190.783446 \r\nL 78.462669 192.262937 \r\nL 79.681342 193.335433 \r\nL 80.900015 194.121397 \r\nL 82.423357 194.829087 \r\nL 84.251367 195.424959 \r\nL 86.688713 195.968014 \r\nL 90.344733 196.517976 \r\nL 96.438099 197.170669 \r\nL 107.406158 198.098018 \r\nL 123.24891 199.199789 \r\nL 148.231711 200.732788 \r\nL 200.634659 203.617849 \r\nL 268.575691 207.421537 \r\nL 328.290679 211.023451 \r\nL 369.725568 213.762891 \r\nL 369.725568 213.762891 \r\n\" style=\"fill:none;stroke:#1f77b4;stroke-linecap:square;stroke-width:1.5;\"/>\r\n   </g>\r\n   <g id=\"line2d_16\">\r\n    <path clip-path=\"url(#p1bc0885b3f)\" d=\"M 65.361932 17.083636 \r\nL 66.275937 58.377637 \r\nL 67.189942 89.62638 \r\nL 68.103947 113.544824 \r\nL 69.017951 132.031638 \r\nL 69.931956 146.39502 \r\nL 70.845961 157.547408 \r\nL 71.759966 166.197872 \r\nL 72.673971 172.908474 \r\nL 73.587976 178.114254 \r\nL 74.501981 182.145814 \r\nL 75.415986 185.270048 \r\nL 76.329991 187.698075 \r\nL 77.243996 189.589821 \r\nL 78.158001 191.068996 \r\nL 79.376674 192.558939 \r\nL 80.595347 193.648959 \r\nL 81.81402 194.456243 \r\nL 83.337362 195.195182 \r\nL 85.165372 195.819073 \r\nL 87.602718 196.388266 \r\nL 90.954069 196.916217 \r\nL 96.133431 197.492168 \r\nL 106.796821 198.398954 \r\nL 122.944241 199.550996 \r\nL 148.231711 201.138252 \r\nL 192.713283 203.71433 \r\nL 262.786993 207.792833 \r\nL 309.705912 210.702335 \r\nL 352.664143 213.569795 \r\nL 369.725568 214.756364 \r\nL 369.725568 214.756364 \r\n\" style=\"fill:none;stroke:#ff7f0e;stroke-linecap:square;stroke-width:1.5;\"/>\r\n   </g>\r\n   <g id=\"patch_3\">\r\n    <path d=\"M 50.14375 224.64 \r\nL 50.14375 7.2 \r\n\" style=\"fill:none;stroke:#000000;stroke-linecap:square;stroke-linejoin:miter;stroke-width:0.8;\"/>\r\n   </g>\r\n   <g id=\"patch_4\">\r\n    <path d=\"M 384.94375 224.64 \r\nL 384.94375 7.2 \r\n\" style=\"fill:none;stroke:#000000;stroke-linecap:square;stroke-linejoin:miter;stroke-width:0.8;\"/>\r\n   </g>\r\n   <g id=\"patch_5\">\r\n    <path d=\"M 50.14375 224.64 \r\nL 384.94375 224.64 \r\n\" style=\"fill:none;stroke:#000000;stroke-linecap:square;stroke-linejoin:miter;stroke-width:0.8;\"/>\r\n   </g>\r\n   <g id=\"patch_6\">\r\n    <path d=\"M 50.14375 7.2 \r\nL 384.94375 7.2 \r\n\" style=\"fill:none;stroke:#000000;stroke-linecap:square;stroke-linejoin:miter;stroke-width:0.8;\"/>\r\n   </g>\r\n   <g id=\"legend_1\">\r\n    <g id=\"patch_7\">\r\n     <path d=\"M 109.359375 44.55625 \r\nL 377.94375 44.55625 \r\nQ 379.94375 44.55625 379.94375 42.55625 \r\nL 379.94375 14.2 \r\nQ 379.94375 12.2 377.94375 12.2 \r\nL 109.359375 12.2 \r\nQ 107.359375 12.2 107.359375 14.2 \r\nL 107.359375 42.55625 \r\nQ 107.359375 44.55625 109.359375 44.55625 \r\nz\r\n\" style=\"fill:#ffffff;opacity:0.8;stroke:#cccccc;stroke-linejoin:miter;\"/>\r\n    </g>\r\n    <g id=\"line2d_17\">\r\n     <path d=\"M 111.359375 20.298438 \r\nL 131.359375 20.298438 \r\n\" style=\"fill:none;stroke:#1f77b4;stroke-linecap:square;stroke-width:1.5;\"/>\r\n    </g>\r\n    <g id=\"line2d_18\"/>\r\n    <g id=\"text_17\">\r\n     <!-- Custom Framework id:0.028148017197023867 -->\r\n     <g transform=\"translate(139.359375 23.798438)scale(0.1 -0.1)\">\r\n      <defs>\r\n       <path d=\"M 64.40625 67.28125 \r\nL 64.40625 56.890625 \r\nQ 59.421875 61.53125 53.78125 63.8125 \r\nQ 48.140625 66.109375 41.796875 66.109375 \r\nQ 29.296875 66.109375 22.65625 58.46875 \r\nQ 16.015625 50.828125 16.015625 36.375 \r\nQ 16.015625 21.96875 22.65625 14.328125 \r\nQ 29.296875 6.6875 41.796875 6.6875 \r\nQ 48.140625 6.6875 53.78125 8.984375 \r\nQ 59.421875 11.28125 64.40625 15.921875 \r\nL 64.40625 5.609375 \r\nQ 59.234375 2.09375 53.4375 0.328125 \r\nQ 47.65625 -1.421875 41.21875 -1.421875 \r\nQ 24.65625 -1.421875 15.125 8.703125 \r\nQ 5.609375 18.84375 5.609375 36.375 \r\nQ 5.609375 53.953125 15.125 64.078125 \r\nQ 24.65625 74.21875 41.21875 74.21875 \r\nQ 47.75 74.21875 53.53125 72.484375 \r\nQ 59.328125 70.75 64.40625 67.28125 \r\nz\r\n\" id=\"DejaVuSans-67\"/>\r\n       <path d=\"M 8.5 21.578125 \r\nL 8.5 54.6875 \r\nL 17.484375 54.6875 \r\nL 17.484375 21.921875 \r\nQ 17.484375 14.15625 20.5 10.265625 \r\nQ 23.53125 6.390625 29.59375 6.390625 \r\nQ 36.859375 6.390625 41.078125 11.03125 \r\nQ 45.3125 15.671875 45.3125 23.6875 \r\nL 45.3125 54.6875 \r\nL 54.296875 54.6875 \r\nL 54.296875 0 \r\nL 45.3125 0 \r\nL 45.3125 8.40625 \r\nQ 42.046875 3.421875 37.71875 1 \r\nQ 33.40625 -1.421875 27.6875 -1.421875 \r\nQ 18.265625 -1.421875 13.375 4.4375 \r\nQ 8.5 10.296875 8.5 21.578125 \r\nz\r\nM 31.109375 56 \r\nz\r\n\" id=\"DejaVuSans-117\"/>\r\n       <path d=\"M 18.3125 70.21875 \r\nL 18.3125 54.6875 \r\nL 36.8125 54.6875 \r\nL 36.8125 47.703125 \r\nL 18.3125 47.703125 \r\nL 18.3125 18.015625 \r\nQ 18.3125 11.328125 20.140625 9.421875 \r\nQ 21.96875 7.515625 27.59375 7.515625 \r\nL 36.8125 7.515625 \r\nL 36.8125 0 \r\nL 27.59375 0 \r\nQ 17.1875 0 13.234375 3.875 \r\nQ 9.28125 7.765625 9.28125 18.015625 \r\nL 9.28125 47.703125 \r\nL 2.6875 47.703125 \r\nL 2.6875 54.6875 \r\nL 9.28125 54.6875 \r\nL 9.28125 70.21875 \r\nz\r\n\" id=\"DejaVuSans-116\"/>\r\n       <path d=\"M 52 44.1875 \r\nQ 55.375 50.25 60.0625 53.125 \r\nQ 64.75 56 71.09375 56 \r\nQ 79.640625 56 84.28125 50.015625 \r\nQ 88.921875 44.046875 88.921875 33.015625 \r\nL 88.921875 0 \r\nL 79.890625 0 \r\nL 79.890625 32.71875 \r\nQ 79.890625 40.578125 77.09375 44.375 \r\nQ 74.3125 48.1875 68.609375 48.1875 \r\nQ 61.625 48.1875 57.5625 43.546875 \r\nQ 53.515625 38.921875 53.515625 30.90625 \r\nL 53.515625 0 \r\nL 44.484375 0 \r\nL 44.484375 32.71875 \r\nQ 44.484375 40.625 41.703125 44.40625 \r\nQ 38.921875 48.1875 33.109375 48.1875 \r\nQ 26.21875 48.1875 22.15625 43.53125 \r\nQ 18.109375 38.875 18.109375 30.90625 \r\nL 18.109375 0 \r\nL 9.078125 0 \r\nL 9.078125 54.6875 \r\nL 18.109375 54.6875 \r\nL 18.109375 46.1875 \r\nQ 21.1875 51.21875 25.484375 53.609375 \r\nQ 29.78125 56 35.6875 56 \r\nQ 41.65625 56 45.828125 52.96875 \r\nQ 50 49.953125 52 44.1875 \r\nz\r\n\" id=\"DejaVuSans-109\"/>\r\n       <path d=\"M 9.8125 72.90625 \r\nL 51.703125 72.90625 \r\nL 51.703125 64.59375 \r\nL 19.671875 64.59375 \r\nL 19.671875 43.109375 \r\nL 48.578125 43.109375 \r\nL 48.578125 34.8125 \r\nL 19.671875 34.8125 \r\nL 19.671875 0 \r\nL 9.8125 0 \r\nz\r\n\" id=\"DejaVuSans-70\"/>\r\n       <path d=\"M 56.203125 29.59375 \r\nL 56.203125 25.203125 \r\nL 14.890625 25.203125 \r\nQ 15.484375 15.921875 20.484375 11.0625 \r\nQ 25.484375 6.203125 34.421875 6.203125 \r\nQ 39.59375 6.203125 44.453125 7.46875 \r\nQ 49.3125 8.734375 54.109375 11.28125 \r\nL 54.109375 2.78125 \r\nQ 49.265625 0.734375 44.1875 -0.34375 \r\nQ 39.109375 -1.421875 33.890625 -1.421875 \r\nQ 20.796875 -1.421875 13.15625 6.1875 \r\nQ 5.515625 13.8125 5.515625 26.8125 \r\nQ 5.515625 40.234375 12.765625 48.109375 \r\nQ 20.015625 56 32.328125 56 \r\nQ 43.359375 56 49.78125 48.890625 \r\nQ 56.203125 41.796875 56.203125 29.59375 \r\nz\r\nM 47.21875 32.234375 \r\nQ 47.125 39.59375 43.09375 43.984375 \r\nQ 39.0625 48.390625 32.421875 48.390625 \r\nQ 24.90625 48.390625 20.390625 44.140625 \r\nQ 15.875 39.890625 15.1875 32.171875 \r\nz\r\n\" id=\"DejaVuSans-101\"/>\r\n       <path d=\"M 4.203125 54.6875 \r\nL 13.1875 54.6875 \r\nL 24.421875 12.015625 \r\nL 35.59375 54.6875 \r\nL 46.1875 54.6875 \r\nL 57.421875 12.015625 \r\nL 68.609375 54.6875 \r\nL 77.59375 54.6875 \r\nL 63.28125 0 \r\nL 52.6875 0 \r\nL 40.921875 44.828125 \r\nL 29.109375 0 \r\nL 18.5 0 \r\nz\r\n\" id=\"DejaVuSans-119\"/>\r\n       <path d=\"M 9.078125 75.984375 \r\nL 18.109375 75.984375 \r\nL 18.109375 31.109375 \r\nL 44.921875 54.6875 \r\nL 56.390625 54.6875 \r\nL 27.390625 29.109375 \r\nL 57.625 0 \r\nL 45.90625 0 \r\nL 18.109375 26.703125 \r\nL 18.109375 0 \r\nL 9.078125 0 \r\nz\r\n\" id=\"DejaVuSans-107\"/>\r\n       <path d=\"M 45.40625 46.390625 \r\nL 45.40625 75.984375 \r\nL 54.390625 75.984375 \r\nL 54.390625 0 \r\nL 45.40625 0 \r\nL 45.40625 8.203125 \r\nQ 42.578125 3.328125 38.25 0.953125 \r\nQ 33.9375 -1.421875 27.875 -1.421875 \r\nQ 17.96875 -1.421875 11.734375 6.484375 \r\nQ 5.515625 14.40625 5.515625 27.296875 \r\nQ 5.515625 40.1875 11.734375 48.09375 \r\nQ 17.96875 56 27.875 56 \r\nQ 33.9375 56 38.25 53.625 \r\nQ 42.578125 51.265625 45.40625 46.390625 \r\nz\r\nM 14.796875 27.296875 \r\nQ 14.796875 17.390625 18.875 11.75 \r\nQ 22.953125 6.109375 30.078125 6.109375 \r\nQ 37.203125 6.109375 41.296875 11.75 \r\nQ 45.40625 17.390625 45.40625 27.296875 \r\nQ 45.40625 37.203125 41.296875 42.84375 \r\nQ 37.203125 48.484375 30.078125 48.484375 \r\nQ 22.953125 48.484375 18.875 42.84375 \r\nQ 14.796875 37.203125 14.796875 27.296875 \r\nz\r\n\" id=\"DejaVuSans-100\"/>\r\n       <path d=\"M 11.71875 12.40625 \r\nL 22.015625 12.40625 \r\nL 22.015625 0 \r\nL 11.71875 0 \r\nz\r\nM 11.71875 51.703125 \r\nL 22.015625 51.703125 \r\nL 22.015625 39.3125 \r\nL 11.71875 39.3125 \r\nz\r\n\" id=\"DejaVuSans-58\"/>\r\n       <path d=\"M 8.203125 72.90625 \r\nL 55.078125 72.90625 \r\nL 55.078125 68.703125 \r\nL 28.609375 0 \r\nL 18.3125 0 \r\nL 43.21875 64.59375 \r\nL 8.203125 64.59375 \r\nz\r\n\" id=\"DejaVuSans-55\"/>\r\n       <path d=\"M 10.984375 1.515625 \r\nL 10.984375 10.5 \r\nQ 14.703125 8.734375 18.5 7.8125 \r\nQ 22.3125 6.890625 25.984375 6.890625 \r\nQ 35.75 6.890625 40.890625 13.453125 \r\nQ 46.046875 20.015625 46.78125 33.40625 \r\nQ 43.953125 29.203125 39.59375 26.953125 \r\nQ 35.25 24.703125 29.984375 24.703125 \r\nQ 19.046875 24.703125 12.671875 31.3125 \r\nQ 6.296875 37.9375 6.296875 49.421875 \r\nQ 6.296875 60.640625 12.9375 67.421875 \r\nQ 19.578125 74.21875 30.609375 74.21875 \r\nQ 43.265625 74.21875 49.921875 64.515625 \r\nQ 56.59375 54.828125 56.59375 36.375 \r\nQ 56.59375 19.140625 48.40625 8.859375 \r\nQ 40.234375 -1.421875 26.421875 -1.421875 \r\nQ 22.703125 -1.421875 18.890625 -0.6875 \r\nQ 15.09375 0.046875 10.984375 1.515625 \r\nz\r\nM 30.609375 32.421875 \r\nQ 37.25 32.421875 41.125 36.953125 \r\nQ 45.015625 41.5 45.015625 49.421875 \r\nQ 45.015625 57.28125 41.125 61.84375 \r\nQ 37.25 66.40625 30.609375 66.40625 \r\nQ 23.96875 66.40625 20.09375 61.84375 \r\nQ 16.21875 57.28125 16.21875 49.421875 \r\nQ 16.21875 41.5 20.09375 36.953125 \r\nQ 23.96875 32.421875 30.609375 32.421875 \r\nz\r\n\" id=\"DejaVuSans-57\"/>\r\n      </defs>\r\n      <use xlink:href=\"#DejaVuSans-67\"/>\r\n      <use x=\"69.824219\" xlink:href=\"#DejaVuSans-117\"/>\r\n      <use x=\"133.203125\" xlink:href=\"#DejaVuSans-115\"/>\r\n      <use x=\"185.302734\" xlink:href=\"#DejaVuSans-116\"/>\r\n      <use x=\"224.511719\" xlink:href=\"#DejaVuSans-111\"/>\r\n      <use x=\"285.693359\" xlink:href=\"#DejaVuSans-109\"/>\r\n      <use x=\"383.105469\" xlink:href=\"#DejaVuSans-32\"/>\r\n      <use x=\"414.892578\" xlink:href=\"#DejaVuSans-70\"/>\r\n      <use x=\"465.162109\" xlink:href=\"#DejaVuSans-114\"/>\r\n      <use x=\"506.275391\" xlink:href=\"#DejaVuSans-97\"/>\r\n      <use x=\"567.554688\" xlink:href=\"#DejaVuSans-109\"/>\r\n      <use x=\"664.966797\" xlink:href=\"#DejaVuSans-101\"/>\r\n      <use x=\"726.490234\" xlink:href=\"#DejaVuSans-119\"/>\r\n      <use x=\"808.277344\" xlink:href=\"#DejaVuSans-111\"/>\r\n      <use x=\"869.458984\" xlink:href=\"#DejaVuSans-114\"/>\r\n      <use x=\"910.572266\" xlink:href=\"#DejaVuSans-107\"/>\r\n      <use x=\"968.482422\" xlink:href=\"#DejaVuSans-32\"/>\r\n      <use x=\"1000.269531\" xlink:href=\"#DejaVuSans-105\"/>\r\n      <use x=\"1028.052734\" xlink:href=\"#DejaVuSans-100\"/>\r\n      <use x=\"1091.529297\" xlink:href=\"#DejaVuSans-58\"/>\r\n      <use x=\"1125.220703\" xlink:href=\"#DejaVuSans-48\"/>\r\n      <use x=\"1188.84375\" xlink:href=\"#DejaVuSans-46\"/>\r\n      <use x=\"1220.630859\" xlink:href=\"#DejaVuSans-48\"/>\r\n      <use x=\"1284.253906\" xlink:href=\"#DejaVuSans-50\"/>\r\n      <use x=\"1347.876953\" xlink:href=\"#DejaVuSans-56\"/>\r\n      <use x=\"1411.5\" xlink:href=\"#DejaVuSans-49\"/>\r\n      <use x=\"1475.123047\" xlink:href=\"#DejaVuSans-52\"/>\r\n      <use x=\"1538.746094\" xlink:href=\"#DejaVuSans-56\"/>\r\n      <use x=\"1602.369141\" xlink:href=\"#DejaVuSans-48\"/>\r\n      <use x=\"1665.992188\" xlink:href=\"#DejaVuSans-49\"/>\r\n      <use x=\"1729.615234\" xlink:href=\"#DejaVuSans-55\"/>\r\n      <use x=\"1793.238281\" xlink:href=\"#DejaVuSans-49\"/>\r\n      <use x=\"1856.861328\" xlink:href=\"#DejaVuSans-57\"/>\r\n      <use x=\"1920.484375\" xlink:href=\"#DejaVuSans-55\"/>\r\n      <use x=\"1984.107422\" xlink:href=\"#DejaVuSans-48\"/>\r\n      <use x=\"2047.730469\" xlink:href=\"#DejaVuSans-50\"/>\r\n      <use x=\"2111.353516\" xlink:href=\"#DejaVuSans-51\"/>\r\n      <use x=\"2174.976562\" xlink:href=\"#DejaVuSans-56\"/>\r\n      <use x=\"2238.599609\" xlink:href=\"#DejaVuSans-54\"/>\r\n      <use x=\"2302.222656\" xlink:href=\"#DejaVuSans-55\"/>\r\n     </g>\r\n    </g>\r\n    <g id=\"line2d_19\">\r\n     <path d=\"M 111.359375 34.976562 \r\nL 131.359375 34.976562 \r\n\" style=\"fill:none;stroke:#ff7f0e;stroke-linecap:square;stroke-width:1.5;\"/>\r\n    </g>\r\n    <g id=\"line2d_20\"/>\r\n    <g id=\"text_18\">\r\n     <!-- Custom Framework id:0.028148017197023867 -->\r\n     <g transform=\"translate(139.359375 38.476562)scale(0.1 -0.1)\">\r\n      <use xlink:href=\"#DejaVuSans-67\"/>\r\n      <use x=\"69.824219\" xlink:href=\"#DejaVuSans-117\"/>\r\n      <use x=\"133.203125\" xlink:href=\"#DejaVuSans-115\"/>\r\n      <use x=\"185.302734\" xlink:href=\"#DejaVuSans-116\"/>\r\n      <use x=\"224.511719\" xlink:href=\"#DejaVuSans-111\"/>\r\n      <use x=\"285.693359\" xlink:href=\"#DejaVuSans-109\"/>\r\n      <use x=\"383.105469\" xlink:href=\"#DejaVuSans-32\"/>\r\n      <use x=\"414.892578\" xlink:href=\"#DejaVuSans-70\"/>\r\n      <use x=\"465.162109\" xlink:href=\"#DejaVuSans-114\"/>\r\n      <use x=\"506.275391\" xlink:href=\"#DejaVuSans-97\"/>\r\n      <use x=\"567.554688\" xlink:href=\"#DejaVuSans-109\"/>\r\n      <use x=\"664.966797\" xlink:href=\"#DejaVuSans-101\"/>\r\n      <use x=\"726.490234\" xlink:href=\"#DejaVuSans-119\"/>\r\n      <use x=\"808.277344\" xlink:href=\"#DejaVuSans-111\"/>\r\n      <use x=\"869.458984\" xlink:href=\"#DejaVuSans-114\"/>\r\n      <use x=\"910.572266\" xlink:href=\"#DejaVuSans-107\"/>\r\n      <use x=\"968.482422\" xlink:href=\"#DejaVuSans-32\"/>\r\n      <use x=\"1000.269531\" xlink:href=\"#DejaVuSans-105\"/>\r\n      <use x=\"1028.052734\" xlink:href=\"#DejaVuSans-100\"/>\r\n      <use x=\"1091.529297\" xlink:href=\"#DejaVuSans-58\"/>\r\n      <use x=\"1125.220703\" xlink:href=\"#DejaVuSans-48\"/>\r\n      <use x=\"1188.84375\" xlink:href=\"#DejaVuSans-46\"/>\r\n      <use x=\"1220.630859\" xlink:href=\"#DejaVuSans-48\"/>\r\n      <use x=\"1284.253906\" xlink:href=\"#DejaVuSans-50\"/>\r\n      <use x=\"1347.876953\" xlink:href=\"#DejaVuSans-56\"/>\r\n      <use x=\"1411.5\" xlink:href=\"#DejaVuSans-49\"/>\r\n      <use x=\"1475.123047\" xlink:href=\"#DejaVuSans-52\"/>\r\n      <use x=\"1538.746094\" xlink:href=\"#DejaVuSans-56\"/>\r\n      <use x=\"1602.369141\" xlink:href=\"#DejaVuSans-48\"/>\r\n      <use x=\"1665.992188\" xlink:href=\"#DejaVuSans-49\"/>\r\n      <use x=\"1729.615234\" xlink:href=\"#DejaVuSans-55\"/>\r\n      <use x=\"1793.238281\" xlink:href=\"#DejaVuSans-49\"/>\r\n      <use x=\"1856.861328\" xlink:href=\"#DejaVuSans-57\"/>\r\n      <use x=\"1920.484375\" xlink:href=\"#DejaVuSans-55\"/>\r\n      <use x=\"1984.107422\" xlink:href=\"#DejaVuSans-48\"/>\r\n      <use x=\"2047.730469\" xlink:href=\"#DejaVuSans-50\"/>\r\n      <use x=\"2111.353516\" xlink:href=\"#DejaVuSans-51\"/>\r\n      <use x=\"2174.976562\" xlink:href=\"#DejaVuSans-56\"/>\r\n      <use x=\"2238.599609\" xlink:href=\"#DejaVuSans-54\"/>\r\n      <use x=\"2302.222656\" xlink:href=\"#DejaVuSans-55\"/>\r\n     </g>\r\n    </g>\r\n   </g>\r\n  </g>\r\n </g>\r\n <defs>\r\n  <clipPath id=\"p1bc0885b3f\">\r\n   <rect height=\"217.44\" width=\"334.8\" x=\"50.14375\" y=\"7.2\"/>\r\n  </clipPath>\r\n </defs>\r\n</svg>\r\n",
      "image/png": "[encoded data removed]"
     },
     "metadata": {
      "needs_background": "light"
     }
    }
   ],
   "source": [
    "print_report(UNIQ_ID)\n",
    "plot_loss(UNIQ_ID)"
   ]
  },
  {
   "cell_type": "code",
   "execution_count": null,
   "metadata": {},
   "outputs": [],
   "source": []
  },
  {
   "source": [
    "# Test of convolutional layers "
   ],
   "cell_type": "markdown",
   "metadata": {}
  },
  {
   "cell_type": "code",
   "execution_count": 19,
   "metadata": {},
   "outputs": [],
   "source": [
    "class FlattenLayer(Activation):\n",
    "    def __init__(self):\n",
    "        self._shape = ()\n",
    "\n",
    "    def forward(self, a_prev):\n",
    "        self._shape = a_prev.shape\n",
    "        return torch.ravel(a_prev).reshape(a_prev.shape[0], -1)\n",
    "\n",
    "    def backward(self, *outputgrad):\n",
    "        da_curr = outputgrad[-1]\n",
    "        return da_curr.reshape(self._shape)\n",
    "\n",
    "    def requires_grad(self):\n",
    "        return False"
   ]
  },
  {
   "cell_type": "code",
   "execution_count": 26,
   "metadata": {},
   "outputs": [],
   "source": [
    "class ConvLayer2D(Module):\n",
    "\n",
    "    def __init__(self, w, b, padding: str = 'valid', stride: int = 1):\n",
    "        self._w, self._b = w, b\n",
    "        self._padding = padding\n",
    "        self._stride = stride\n",
    "        self._dw, self._db = None, None\n",
    "        self._a_prev = None\n",
    "        self._cols = None\n",
    "\n",
    "    @classmethod\n",
    "    def initialize(cls, filters: int, kernel_shape, padding: str = 'valid', stride: int = 1):\n",
    "        # w = torch.random(*kernel_shape, filters) * 0.1\n",
    "        \n",
    "        std = math.sqrt(1 / 10)\n",
    "        w = torch.empty(*kernel_shape, filters).uniform_(-std, std)\n",
    "        b = torch.empty(filters).uniform_(-std, std)\n",
    "        # w = torch.rand(*kernel_shape, filters) * 0.1\n",
    "        # b = torch.rand(filters) * 0.1\n",
    "\n",
    "        return cls(w=w, b=b, padding=padding, stride=stride)\n",
    "\n",
    "    def weights(self):\n",
    "        return self._w, self._b\n",
    "\n",
    "    def gradients(self):\n",
    "        if self._dw is None or self._db is None:\n",
    "            return None\n",
    "        return self._dw, self._db\n",
    "\n",
    "    def step(self, lr, wd):\n",
    "        self._w.add_(-lr * self._dw - lr * wd * self._w)\n",
    "        self._b.add_(-lr * self._db - lr * wd * self._b)\n",
    "\n",
    "    def forward(self, a_prev):\n",
    "        self._a_prev = a_prev\n",
    "        output_shape = self.calculate_output_dims(input_dims=a_prev.shape)\n",
    "        n, h_in, w_in, _ = a_prev.shape\n",
    "        _, h_out, w_out, _ = output_shape\n",
    "        h_f, w_f, _, n_f = self._w.shape\n",
    "        pad = self.calculate_pad_dims()\n",
    "        a_prev_pad = self.pad(array=a_prev, pad=pad)\n",
    "        output = torch.zeros(output_shape)\n",
    "\n",
    "        for i in range(h_out):\n",
    "            for j in range(w_out):\n",
    "                h_start = i * self._stride\n",
    "                h_end = h_start + h_f\n",
    "                w_start = j * self._stride\n",
    "                w_end = w_start + w_f\n",
    "\n",
    "                output[:, i, j, :] = torch.sum( a_prev_pad[:, h_start:h_end, w_start:w_end, :, np.newaxis] * self._w[np.newaxis, :, :, :], axis=(1, 2, 3))\n",
    "\n",
    "        return output + self._b\n",
    "\n",
    "    def zero_grad(self):\n",
    "        self._dw =0\n",
    "        self._db = 0\n",
    "\n",
    "    def backward(self, *outputgrad):\n",
    "\n",
    "        da_curr = outputgrad[-1]\n",
    "\n",
    "        _, h_out, w_out, _ = da_curr.shape\n",
    "        n, h_in, w_in, _ = self._a_prev.shape\n",
    "        h_f, w_f, _, _ = self._w.shape\n",
    "        pad = self.calculate_pad_dims()\n",
    "        a_prev_pad = self.pad(array=self._a_prev, pad=pad)\n",
    "        output = torch.zeros_like(a_prev_pad, dtype=float)\n",
    "\n",
    "        self._db = da_curr.sum(axis=(0, 1, 2)) / n\n",
    "        self._dw = torch.zeros_like(self._w)\n",
    "\n",
    "        for i in range(h_out):\n",
    "            for j in range(w_out):\n",
    "                h_start = i * self._stride\n",
    "                h_end = h_start + h_f\n",
    "                w_start = j * self._stride\n",
    "                w_end = w_start + w_f\n",
    "                output[:, h_start:h_end, w_start:w_end, :] += torch.sum(\n",
    "                    self._w.unsqueeze(0)*da_curr[:, i:i+1, j:j+1].unsqueeze(3),\n",
    "                    axis=4\n",
    "                    )\n",
    "                self._dw += torch.sum(\n",
    "                    a_prev_pad[:, h_start:h_end, w_start:w_end].unsqueeze(4) *\n",
    "                    da_curr[:, i:i+1, j:j+1].unsqueeze(3),\n",
    "                    axis=0\n",
    "                )\n",
    "        self._dw /= n\n",
    "        return output[:, pad[0]:pad[0]+h_in, pad[1]:pad[1]+w_in, :]\n",
    "\n",
    "\n",
    "    def set_wights(self, w, b):\n",
    "        self._w = w\n",
    "        self._b = b\n",
    "\n",
    "    def calculate_output_dims(self, input_dims):\n",
    "        n, h_in, w_in, _ = input_dims\n",
    "        h_f, w_f, _, n_f = self._w.shape\n",
    "        if self._padding == 'same':\n",
    "            return n, h_in, w_in, n_f\n",
    "        elif self._padding == 'valid':\n",
    "            h_out = (h_in - h_f) // self._stride + 1\n",
    "            w_out = (w_in - w_f) // self._stride + 1\n",
    "            return n, h_out, w_out, n_f\n",
    "        else:\n",
    "            raise InvalidPaddingModeError(\n",
    "                f\"Unsupported padding value: {self._padding}\"\n",
    "            )\n",
    "\n",
    "    def calculate_pad_dims(self):\n",
    "        if self._padding == 'same':\n",
    "            h_f, w_f, _, _ = self._w.shape\n",
    "            return (h_f - 1) // 2, (w_f - 1) // 2\n",
    "        elif self._padding == 'valid':\n",
    "            return 0, 0\n",
    "        else:\n",
    "            raise InvalidPaddingModeError(\n",
    "                f\"Unsupported padding value: {self._padding}\"\n",
    "            )\n",
    "\n",
    "    @staticmethod\n",
    "    def pad(array, pad):\n",
    "        return torch.tensor(np.pad(\n",
    "            array=array,\n",
    "            pad_width=((0, 0), (pad[0], pad[0]), (pad[1], pad[1]), (0, 0)),\n",
    "            mode='constant'\n",
    "        ))\n",
    "\n",
    "    def requires_grad(self):\n",
    "        return True\n",
    "    \n",
    "    def zero_grad(self):\n",
    "        self._dw =0\n",
    "        self._db = 0\n"
   ]
  },
  {
   "cell_type": "code",
   "execution_count": 21,
   "metadata": {},
   "outputs": [],
   "source": [
    "def softmax(x):\n",
    "        a,_ = torch.max(x, dim = 1)\n",
    "        expo = torch.exp(x - a.view(-1,1))\n",
    "        return expo /torch.sum(expo, dim = 1).view(-1,1)\n",
    "\n",
    "def to_hot_encoding(target):\n",
    "    res = torch.zeros((target.shape[0], 10))\n",
    "    for i in range(target.shape[0]):\n",
    "        res[i,target[i]] = 1\n",
    "    return res\n",
    "\n",
    "class CrossEntropyLoss(Loss):\n",
    "    def loss(self,predicted, targets):\n",
    "        target = to_hot_encoding(targets)\n",
    "        a,_ = torch.max(predicted, dim = 1)\n",
    "        loss = - (predicted*target).sum(dim = 1)\n",
    "        loss += a\n",
    "        loss += torch.log((predicted - a.view(-1,1)).exp().sum(dim=1))        \n",
    "        return loss.mean(dim = 0)\n",
    "    \n",
    "    def dloss(self,predicted, targets):\n",
    "        target = to_hot_encoding(targets)\n",
    "        dloss = softmax(predicted) - target\n",
    "        return dloss/len(predicted)"
   ]
  },
  {
   "cell_type": "code",
   "execution_count": 22,
   "metadata": {},
   "outputs": [],
   "source": [
    "# MODELS TO COMPARE \n",
    "ROUNDS = 50\n",
    "NB_SAMPLE = 1000\n",
    "LEARNING_RATE = 0.01\n",
    "WEIGHT_DECAY = 0.001\n",
    "\n",
    "NUMBERS=False\n",
    "\n",
    "BASIC_MODEL_DESC = [('lin', 2, 25), ('relu'), ('lin', 25, 10), ('relu'), ('lin', 10, 25), ('relu'), ('lin', 25, 1)]\n",
    "\n",
    "def layer_selection(layerp, custom):\n",
    "    if len(layerp) == 3 and layerp[0] == 'lin':\n",
    "        layer = Linear if custom else nn.Linear\n",
    "        return layer(layerp[1], layerp[2])\n",
    "    if len(layerp) == 3 and  layerp[0] == 'conv':\n",
    "        return ConvLayer2D.initialize(filters=layerp[1], kernel_shape=layerp[2], stride=1, padding=\"same\")\n",
    "    if layerp == 'relu':\n",
    "        layer = ReLU if custom else nn.ReLU\n",
    "        return layer()\n",
    "    if layerp == 'flat':\n",
    "        layer = FlattenLayer if custom else nn.Flatten\n",
    "        return layer()\n",
    "\n",
    "    return None\n",
    "\n",
    "def create_model_optimizer_criterion(model_description, custom=True):\n",
    "    SEQU, OPTI, CRIT = None, None, None\n",
    "    if custom:\n",
    "        SEQU, OPTI, CRIT = Sequential, SGD, CrossEntropyLoss\n",
    "    else:\n",
    "        SEQU, OPTI, CRIT = nn.Sequential, optim.SGD, nn.MSELoss\n",
    "    layers = [ layer_selection(layerp, custom) for layerp in model_description]\n",
    "    model = SEQU(*layers)\n",
    "    return (model, OPTI(model.parameters(), lr=LEARNING_RATE, weight_decay=WEIGHT_DECAY), CRIT())"
   ]
  },
  {
   "cell_type": "code",
   "execution_count": 27,
   "metadata": {
    "tags": []
   },
   "outputs": [
    {
     "output_type": "stream",
     "name": "stdout",
     "text": [
      "Training Custom framework\n"
     ]
    },
    {
     "output_type": "display_data",
     "data": {
      "text/plain": "HBox(children=(HTML(value=''), FloatProgress(value=0.0, max=1.0), HTML(value='')))",
      "application/vnd.jupyter.widget-view+json": {
       "version_major": 2,
       "version_minor": 0,
       "model_id": "f62835902bcf40d7a158715503674771"
      }
     },
     "metadata": {}
    },
    {
     "output_type": "stream",
     "name": "stdout",
     "text": [
      "\nRun with parameters: \n\t - DATASET_SIZE: 1000, \t results averaged on 1 ROUNDS\n\t - model parameters: [('conv', 16, (3, 3, 1)), 'relu', ('conv', 32, (3, 3, 16)), 'relu', 'flat', ('lin', 6272, 25), 'relu', ('lin', 25, 25), 'relu', ('lin', 25, 10)]\n\t - optimizer parameters: LEARNING_RATE: 0.1 \t WEIGHT_DECAY: 0\nResults: \n\t - CUSTOM FRAMEWORK: \t training:  0.000 +/-  nan \t test: 0.000 +/-  nan \t computed in 88.87320829999953 s\n"
     ]
    },
    {
     "output_type": "error",
     "ename": "ValueError",
     "evalue": "can only convert an array of size 1 to a Python scalar",
     "traceback": [
      "\u001b[1;31m---------------------------------------------------------------------------\u001b[0m",
      "\u001b[1;31mValueError\u001b[0m                                Traceback (most recent call last)",
      "\u001b[1;32m<ipython-input-27-594d2c56628f>\u001b[0m in \u001b[0;36m<module>\u001b[1;34m\u001b[0m\n\u001b[0;32m     30\u001b[0m \u001b[1;33m\u001b[0m\u001b[0m\n\u001b[0;32m     31\u001b[0m \u001b[1;31m# plot the figure\u001b[0m\u001b[1;33m\u001b[0m\u001b[1;33m\u001b[0m\u001b[1;33m\u001b[0m\u001b[0m\n\u001b[1;32m---> 32\u001b[1;33m \u001b[0mprint_report\u001b[0m\u001b[1;33m(\u001b[0m\u001b[0mUNIQ_ID\u001b[0m\u001b[1;33m)\u001b[0m\u001b[1;33m\u001b[0m\u001b[1;33m\u001b[0m\u001b[0m\n\u001b[0m\u001b[0;32m     33\u001b[0m \u001b[0mplot_loss\u001b[0m\u001b[1;33m(\u001b[0m\u001b[0mUNIQ_ID\u001b[0m\u001b[1;33m,\u001b[0m \u001b[0mcustom\u001b[0m\u001b[1;33m=\u001b[0m\u001b[1;32mTrue\u001b[0m\u001b[1;33m)\u001b[0m\u001b[1;33m\u001b[0m\u001b[1;33m\u001b[0m\u001b[0m\n",
      "\u001b[1;32m<ipython-input-15-bd92c2bf8355>\u001b[0m in \u001b[0;36mprint_report\u001b[1;34m(*idx)\u001b[0m\n\u001b[0;32m     35\u001b[0m         \u001b[0mprint\u001b[0m\u001b[1;33m(\u001b[0m\u001b[1;34m\"\\t - CUSTOM FRAMEWORK: \\t training:  {:.3f} +/-  {:.3f} \\t test: {:.3f} +/-  {:.3f} \\t computed in {} s\"\u001b[0m\u001b[1;33m.\u001b[0m\u001b[0mformat\u001b[0m\u001b[1;33m(\u001b[0m\u001b[0ms\u001b[0m\u001b[1;33m[\u001b[0m\u001b[1;34m'tr_mean'\u001b[0m\u001b[1;33m]\u001b[0m\u001b[1;33m.\u001b[0m\u001b[0munique\u001b[0m\u001b[1;33m(\u001b[0m\u001b[1;33m)\u001b[0m\u001b[1;33m.\u001b[0m\u001b[0mitem\u001b[0m\u001b[1;33m(\u001b[0m\u001b[1;33m)\u001b[0m\u001b[1;33m,\u001b[0m \u001b[0ms\u001b[0m\u001b[1;33m[\u001b[0m\u001b[1;34m'tr_std'\u001b[0m\u001b[1;33m]\u001b[0m\u001b[1;33m.\u001b[0m\u001b[0munique\u001b[0m\u001b[1;33m(\u001b[0m\u001b[1;33m)\u001b[0m\u001b[1;33m.\u001b[0m\u001b[0mitem\u001b[0m\u001b[1;33m(\u001b[0m\u001b[1;33m)\u001b[0m\u001b[1;33m,\u001b[0m \u001b[0ms\u001b[0m\u001b[1;33m[\u001b[0m\u001b[1;34m'te_mean'\u001b[0m\u001b[1;33m]\u001b[0m\u001b[1;33m.\u001b[0m\u001b[0munique\u001b[0m\u001b[1;33m(\u001b[0m\u001b[1;33m)\u001b[0m\u001b[1;33m.\u001b[0m\u001b[0mitem\u001b[0m\u001b[1;33m(\u001b[0m\u001b[1;33m)\u001b[0m\u001b[1;33m,\u001b[0m \u001b[0ms\u001b[0m\u001b[1;33m[\u001b[0m\u001b[1;34m'te_std'\u001b[0m\u001b[1;33m]\u001b[0m\u001b[1;33m.\u001b[0m\u001b[0munique\u001b[0m\u001b[1;33m(\u001b[0m\u001b[1;33m)\u001b[0m\u001b[1;33m.\u001b[0m\u001b[0mitem\u001b[0m\u001b[1;33m(\u001b[0m\u001b[1;33m)\u001b[0m\u001b[1;33m,\u001b[0m \u001b[0ms\u001b[0m\u001b[1;33m[\u001b[0m\u001b[1;34m'duration'\u001b[0m\u001b[1;33m]\u001b[0m\u001b[1;33m.\u001b[0m\u001b[0munique\u001b[0m\u001b[1;33m(\u001b[0m\u001b[1;33m)\u001b[0m\u001b[1;33m.\u001b[0m\u001b[0mitem\u001b[0m\u001b[1;33m(\u001b[0m\u001b[1;33m)\u001b[0m\u001b[1;33m)\u001b[0m\u001b[1;33m)\u001b[0m\u001b[1;33m\u001b[0m\u001b[1;33m\u001b[0m\u001b[0m\n\u001b[0;32m     36\u001b[0m         \u001b[0ms\u001b[0m \u001b[1;33m=\u001b[0m  \u001b[0mdf\u001b[0m\u001b[1;33m[\u001b[0m\u001b[0mdf\u001b[0m\u001b[1;33m[\u001b[0m\u001b[1;34m'custom_framework'\u001b[0m\u001b[1;33m]\u001b[0m \u001b[1;33m==\u001b[0m \u001b[1;32mFalse\u001b[0m\u001b[1;33m]\u001b[0m\u001b[1;33m\u001b[0m\u001b[1;33m\u001b[0m\u001b[0m\n\u001b[1;32m---> 37\u001b[1;33m         \u001b[0mprint\u001b[0m\u001b[1;33m(\u001b[0m\u001b[1;34m\"\\t - TORCH FRAMEWORK: \\t training:  {:.3f} +/-  {:.3f} \\t test: {:.3f} +/-  {:.3f} \\t computed in {} s\"\u001b[0m\u001b[1;33m.\u001b[0m\u001b[0mformat\u001b[0m\u001b[1;33m(\u001b[0m\u001b[0ms\u001b[0m\u001b[1;33m[\u001b[0m\u001b[1;34m'tr_mean'\u001b[0m\u001b[1;33m]\u001b[0m\u001b[1;33m.\u001b[0m\u001b[0munique\u001b[0m\u001b[1;33m(\u001b[0m\u001b[1;33m)\u001b[0m\u001b[1;33m.\u001b[0m\u001b[0mitem\u001b[0m\u001b[1;33m(\u001b[0m\u001b[1;33m)\u001b[0m\u001b[1;33m,\u001b[0m \u001b[0ms\u001b[0m\u001b[1;33m[\u001b[0m\u001b[1;34m'tr_std'\u001b[0m\u001b[1;33m]\u001b[0m\u001b[1;33m.\u001b[0m\u001b[0munique\u001b[0m\u001b[1;33m(\u001b[0m\u001b[1;33m)\u001b[0m\u001b[1;33m.\u001b[0m\u001b[0mitem\u001b[0m\u001b[1;33m(\u001b[0m\u001b[1;33m)\u001b[0m\u001b[1;33m,\u001b[0m \u001b[0ms\u001b[0m\u001b[1;33m[\u001b[0m\u001b[1;34m'te_mean'\u001b[0m\u001b[1;33m]\u001b[0m\u001b[1;33m.\u001b[0m\u001b[0munique\u001b[0m\u001b[1;33m(\u001b[0m\u001b[1;33m)\u001b[0m\u001b[1;33m.\u001b[0m\u001b[0mitem\u001b[0m\u001b[1;33m(\u001b[0m\u001b[1;33m)\u001b[0m\u001b[1;33m,\u001b[0m \u001b[0ms\u001b[0m\u001b[1;33m[\u001b[0m\u001b[1;34m'te_std'\u001b[0m\u001b[1;33m]\u001b[0m\u001b[1;33m.\u001b[0m\u001b[0munique\u001b[0m\u001b[1;33m(\u001b[0m\u001b[1;33m)\u001b[0m\u001b[1;33m.\u001b[0m\u001b[0mitem\u001b[0m\u001b[1;33m(\u001b[0m\u001b[1;33m)\u001b[0m\u001b[1;33m,\u001b[0m \u001b[0ms\u001b[0m\u001b[1;33m[\u001b[0m\u001b[1;34m'duration'\u001b[0m\u001b[1;33m]\u001b[0m\u001b[1;33m.\u001b[0m\u001b[0munique\u001b[0m\u001b[1;33m(\u001b[0m\u001b[1;33m)\u001b[0m\u001b[1;33m.\u001b[0m\u001b[0mitem\u001b[0m\u001b[1;33m(\u001b[0m\u001b[1;33m)\u001b[0m\u001b[1;33m)\u001b[0m\u001b[1;33m)\u001b[0m\u001b[1;33m\u001b[0m\u001b[1;33m\u001b[0m\u001b[0m\n\u001b[0m\u001b[0;32m     38\u001b[0m         \u001b[0mprint\u001b[0m\u001b[1;33m(\u001b[0m\u001b[1;33m)\u001b[0m\u001b[1;33m\u001b[0m\u001b[1;33m\u001b[0m\u001b[0m\n",
      "\u001b[1;31mValueError\u001b[0m: can only convert an array of size 1 to a Python scalar"
     ]
    }
   ],
   "source": [
    "from dlc_practical_prologue import generate_pair_sets\n",
    "\n",
    "cols = ['custom_framework','rounds', 'samples', 'learning_rate', 'weight_decay', 'loss', 'tr_mean', 'tr_std', 'te_mean', 'te_std', 'duration', 'id', 'model_description']\n",
    "ROUNDS = 1\n",
    "N = 1000\n",
    "NB_SAMPLE = 1000\n",
    "LEARNING_RATE = 0.1\n",
    "EPOCHS= 10\n",
    "WEIGHT_DECAY = 0\n",
    "UNIQ_ID = random()\n",
    "\n",
    "# generate training and testing data\n",
    "train_input_, train_target_, train_classes_, test_input_, test_target_, test_classes_ = generate_pair_sets(N)\n",
    "train_input, train_target = train_input_.unsqueeze(4)[:,0], train_classes_[:,0]\n",
    "test_input, test_target = test_input_.unsqueeze(4)[:,0], test_classes_[:,0]\n",
    "datasets = (train_input, train_target, test_input, test_target)\n",
    "DATABASE = load(new=True)\n",
    "NUMERS=True\n",
    "\n",
    "MODEL_DESCR = [('conv', 16, (3,3,1) ), ('relu'),('conv', 32, (3,3,16) ), ('relu'), ('flat'),('lin', 6272, 25), ('relu'),('lin', 25, 25), ('relu'), ('lin', 25, 10)]\n",
    "\n",
    "plt.figure()\n",
    "    \n",
    "print(\"Training {}\".format(key))\n",
    "start = time.perf_counter()\n",
    "tr_mean, tr_std, te_mean, te_std, tr_loss = evaluate_model(datasets, rounds = ROUNDS, is_custom=True, model_description=MODEL_DESCR)\n",
    "avg_time = (time.perf_counter() - start) / ROUNDS\n",
    "\n",
    "DATABASE = DATABASE.append(dict(zip(cols, [True, ROUNDS, NB_SAMPLE, LEARNING_RATE, WEIGHT_DECAY, tr_loss.detach().numpy(), tr_mean.item(), tr_std.item(), te_mean.item(), te_std.item(), avg_time, UNIQ_ID, MODEL_DESCR])), ignore_index=True)\n",
    "\n",
    "# plot the figure\n",
    "print_report(UNIQ_ID)\n",
    "plot_loss(UNIQ_ID, custom=True)"
   ]
  },
  {
   "cell_type": "code",
   "execution_count": 28,
   "metadata": {},
   "outputs": [
    {
     "output_type": "execute_result",
     "data": {
      "text/plain": [
       "  custom_framework rounds samples  learning_rate weight_decay  \\\n",
       "0             True      1    1000            0.1            0   \n",
       "\n",
       "                                                loss  tr_mean  tr_std  \\\n",
       "0  [nan, nan, nan, nan, nan, nan, nan, nan, nan, ...      0.0     NaN   \n",
       "\n",
       "   te_mean  te_std   duration        id  \\\n",
       "0      0.0     NaN  88.873208  0.094123   \n",
       "\n",
       "                                   model_description  \n",
       "0  [(conv, 16, (3, 3, 1)), relu, (conv, 32, (3, 3...  "
      ],
      "text/html": "<div>\n<style scoped>\n    .dataframe tbody tr th:only-of-type {\n        vertical-align: middle;\n    }\n\n    .dataframe tbody tr th {\n        vertical-align: top;\n    }\n\n    .dataframe thead th {\n        text-align: right;\n    }\n</style>\n<table border=\"1\" class=\"dataframe\">\n  <thead>\n    <tr style=\"text-align: right;\">\n      <th></th>\n      <th>custom_framework</th>\n      <th>rounds</th>\n      <th>samples</th>\n      <th>learning_rate</th>\n      <th>weight_decay</th>\n      <th>loss</th>\n      <th>tr_mean</th>\n      <th>tr_std</th>\n      <th>te_mean</th>\n      <th>te_std</th>\n      <th>duration</th>\n      <th>id</th>\n      <th>model_description</th>\n    </tr>\n  </thead>\n  <tbody>\n    <tr>\n      <th>0</th>\n      <td>True</td>\n      <td>1</td>\n      <td>1000</td>\n      <td>0.1</td>\n      <td>0</td>\n      <td>[nan, nan, nan, nan, nan, nan, nan, nan, nan, ...</td>\n      <td>0.0</td>\n      <td>NaN</td>\n      <td>0.0</td>\n      <td>NaN</td>\n      <td>88.873208</td>\n      <td>0.094123</td>\n      <td>[(conv, 16, (3, 3, 1)), relu, (conv, 32, (3, 3...</td>\n    </tr>\n  </tbody>\n</table>\n</div>"
     },
     "metadata": {},
     "execution_count": 28
    }
   ],
   "source": [
    "DATABASE.head()"
   ]
  },
  {
   "cell_type": "code",
   "execution_count": null,
   "metadata": {},
   "outputs": [],
   "source": []
  }
 ],
 "metadata": {
  "kernelspec": {
   "name": "python385jvsc74a57bd09787ed2ea31c9c7e4912833e1adada1a84cd01eeee2b1fe2106c39df70051140",
   "display_name": "Python 3.8.5 64-bit ('base': conda)"
  },
  "language_info": {
   "codemirror_mode": {
    "name": "ipython",
    "version": 3
   },
   "file_extension": ".py",
   "mimetype": "text/x-python",
   "name": "python",
   "nbconvert_exporter": "python",
   "pygments_lexer": "ipython3",
   "version": "3.8.5"
  },
  "orig_nbformat": 2
 },
 "nbformat": 4,
 "nbformat_minor": 2
}